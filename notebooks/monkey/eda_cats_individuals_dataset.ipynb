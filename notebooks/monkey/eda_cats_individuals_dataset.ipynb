{
 "cells": [
  {
   "cell_type": "code",
   "execution_count": 200,
   "id": "adcb1c0d",
   "metadata": {},
   "outputs": [],
   "source": [
    "from pathlib import Path\n",
    "import pandas as pd\n",
    "import os\n",
    "import numpy as np"
   ]
  },
  {
   "cell_type": "markdown",
   "id": "1875e5a4",
   "metadata": {},
   "source": [
    "### dirs and dataset"
   ]
  },
  {
   "cell_type": "code",
   "execution_count": 201,
   "id": "0106eb4b",
   "metadata": {},
   "outputs": [],
   "source": [
    "project_dir = os.path.abspath(os.curdir)\n",
    "project_dir = project_dir.split('recatizer/')[0] + 'recatizer/'\n",
    " "
   ]
  },
  {
   "cell_type": "code",
   "execution_count": 202,
   "id": "c27bf340",
   "metadata": {},
   "outputs": [],
   "source": [
    "raw_data_dir = project_dir + 'data/raw/' # <- The original, immutable data dump.\n",
    "intermediate_data_output_dir = project_dir + \\\n",
    "        'data/interim/cat_individuals_dataset/'# <- Intermediate data that has been transformed.\n",
    "processed_data_output_dir = project_dir + \\\n",
    "        'data/processed/'#  <- The final, canonical data sets for modeling.   "
   ]
  },
  {
   "cell_type": "code",
   "execution_count": 203,
   "id": "58a65de9",
   "metadata": {},
   "outputs": [
    {
     "data": {
      "text/html": [
       "<div>\n",
       "<style scoped>\n",
       "    .dataframe tbody tr th:only-of-type {\n",
       "        vertical-align: middle;\n",
       "    }\n",
       "\n",
       "    .dataframe tbody tr th {\n",
       "        vertical-align: top;\n",
       "    }\n",
       "\n",
       "    .dataframe thead th {\n",
       "        text-align: right;\n",
       "    }\n",
       "</style>\n",
       "<table border=\"1\" class=\"dataframe\">\n",
       "  <thead>\n",
       "    <tr style=\"text-align: right;\">\n",
       "      <th></th>\n",
       "      <th>cat_id</th>\n",
       "      <th>img</th>\n",
       "      <th>path</th>\n",
       "    </tr>\n",
       "  </thead>\n",
       "  <tbody>\n",
       "    <tr>\n",
       "      <th>0</th>\n",
       "      <td>0035</td>\n",
       "      <td>0035_013.JPG</td>\n",
       "      <td>0035/0035_013.JPG</td>\n",
       "    </tr>\n",
       "    <tr>\n",
       "      <th>1</th>\n",
       "      <td>0035</td>\n",
       "      <td>0035_009.JPG</td>\n",
       "      <td>0035/0035_009.JPG</td>\n",
       "    </tr>\n",
       "    <tr>\n",
       "      <th>2</th>\n",
       "      <td>0035</td>\n",
       "      <td>0035_000.JPG</td>\n",
       "      <td>0035/0035_000.JPG</td>\n",
       "    </tr>\n",
       "    <tr>\n",
       "      <th>3</th>\n",
       "      <td>0035</td>\n",
       "      <td>0035_005.JPG</td>\n",
       "      <td>0035/0035_005.JPG</td>\n",
       "    </tr>\n",
       "    <tr>\n",
       "      <th>4</th>\n",
       "      <td>0035</td>\n",
       "      <td>0035_003.JPG</td>\n",
       "      <td>0035/0035_003.JPG</td>\n",
       "    </tr>\n",
       "  </tbody>\n",
       "</table>\n",
       "</div>"
      ],
      "text/plain": [
       "  cat_id           img               path\n",
       "0   0035  0035_013.JPG  0035/0035_013.JPG\n",
       "1   0035  0035_009.JPG  0035/0035_009.JPG\n",
       "2   0035  0035_000.JPG  0035/0035_000.JPG\n",
       "3   0035  0035_005.JPG  0035/0035_005.JPG\n",
       "4   0035  0035_003.JPG  0035/0035_003.JPG"
      ]
     },
     "execution_count": 203,
     "metadata": {},
     "output_type": "execute_result"
    }
   ],
   "source": [
    "dataset = pd.read_csv(raw_data_dir + 'images_database.csv', index_col=0)\n",
    "dataset.head()"
   ]
  },
  {
   "cell_type": "markdown",
   "id": "cd170ad8",
   "metadata": {},
   "source": [
    "#### id 0455_357 and id  0455 the same cat. Fix it manualy"
   ]
  },
  {
   "cell_type": "code",
   "execution_count": 246,
   "id": "feada0b1",
   "metadata": {},
   "outputs": [
    {
     "name": "stdout",
     "output_type": "stream",
     "text": [
      "cat with new_id has more images:  True\n"
     ]
    }
   ],
   "source": [
    "new_id = '0455'\n",
    "\n",
    "_dataset = dataset.copy()\n",
    "_dataset.loc[_dataset.cat_id == '0455_357', 'path'] = new_id + '/' + _dataset.path\n",
    "_dataset.loc[_dataset.cat_id == '0455_357', 'cat_id'] = new_id\n",
    "\n",
    "print('cat with new_id has more images: ',\n",
    "    len(_dataset.loc[_dataset.cat_id == new_id,:]) > \\\n",
    "      len(dataset.loc[dataset.cat_id == new_id,:]))\n",
    "\n",
    "dataset = _dataset"
   ]
  },
  {
   "cell_type": "markdown",
   "id": "96452ce7",
   "metadata": {},
   "source": [
    "#### amount files about every cats\n",
    "\n"
   ]
  },
  {
   "cell_type": "code",
   "execution_count": 247,
   "id": "8c875b5d",
   "metadata": {},
   "outputs": [],
   "source": [
    "def calc_every_cat_files_num(dataset):\n",
    "    cat_ids = dataset.cat_id.unique()\n",
    "    # every_cat_imgs_num = \n",
    "    every_cat_imgs_num =[]\n",
    "    for cat_id in cat_ids:\n",
    "        every_cat_imgs_num.append(\n",
    "            {'id': cat_id, \n",
    "             'amount_files': len(dataset.cat_id[dataset.cat_id == cat_id])}   \n",
    "        )\n",
    "    return pd.DataFrame(every_cat_imgs_num)\n",
    "\n",
    "\n",
    "every_cat_imgs_num = calc_every_cat_files_num(dataset)"
   ]
  },
  {
   "cell_type": "code",
   "execution_count": 248,
   "id": "3a9ce5ff",
   "metadata": {},
   "outputs": [
    {
     "data": {
      "text/html": [
       "<div>\n",
       "<style scoped>\n",
       "    .dataframe tbody tr th:only-of-type {\n",
       "        vertical-align: middle;\n",
       "    }\n",
       "\n",
       "    .dataframe tbody tr th {\n",
       "        vertical-align: top;\n",
       "    }\n",
       "\n",
       "    .dataframe thead th {\n",
       "        text-align: right;\n",
       "    }\n",
       "</style>\n",
       "<table border=\"1\" class=\"dataframe\">\n",
       "  <thead>\n",
       "    <tr style=\"text-align: right;\">\n",
       "      <th></th>\n",
       "      <th>id</th>\n",
       "      <th>amount_files</th>\n",
       "    </tr>\n",
       "  </thead>\n",
       "  <tbody>\n",
       "    <tr>\n",
       "      <th>270</th>\n",
       "      <td>0455</td>\n",
       "      <td>714</td>\n",
       "    </tr>\n",
       "    <tr>\n",
       "      <th>89</th>\n",
       "      <td>0454</td>\n",
       "      <td>229</td>\n",
       "    </tr>\n",
       "    <tr>\n",
       "      <th>3</th>\n",
       "      <td>0190</td>\n",
       "      <td>144</td>\n",
       "    </tr>\n",
       "    <tr>\n",
       "      <th>361</th>\n",
       "      <td>0160</td>\n",
       "      <td>130</td>\n",
       "    </tr>\n",
       "    <tr>\n",
       "      <th>440</th>\n",
       "      <td>0375</td>\n",
       "      <td>110</td>\n",
       "    </tr>\n",
       "    <tr>\n",
       "      <th>42</th>\n",
       "      <td>0191</td>\n",
       "      <td>101</td>\n",
       "    </tr>\n",
       "    <tr>\n",
       "      <th>489</th>\n",
       "      <td>0474</td>\n",
       "      <td>98</td>\n",
       "    </tr>\n",
       "    <tr>\n",
       "      <th>5</th>\n",
       "      <td>0212</td>\n",
       "      <td>98</td>\n",
       "    </tr>\n",
       "    <tr>\n",
       "      <th>304</th>\n",
       "      <td>0446</td>\n",
       "      <td>95</td>\n",
       "    </tr>\n",
       "    <tr>\n",
       "      <th>239</th>\n",
       "      <td>0046</td>\n",
       "      <td>95</td>\n",
       "    </tr>\n",
       "    <tr>\n",
       "      <th>374</th>\n",
       "      <td>0189</td>\n",
       "      <td>92</td>\n",
       "    </tr>\n",
       "    <tr>\n",
       "      <th>123</th>\n",
       "      <td>0187</td>\n",
       "      <td>91</td>\n",
       "    </tr>\n",
       "    <tr>\n",
       "      <th>421</th>\n",
       "      <td>0502</td>\n",
       "      <td>91</td>\n",
       "    </tr>\n",
       "    <tr>\n",
       "      <th>497</th>\n",
       "      <td>0185</td>\n",
       "      <td>90</td>\n",
       "    </tr>\n",
       "    <tr>\n",
       "      <th>282</th>\n",
       "      <td>0156</td>\n",
       "      <td>89</td>\n",
       "    </tr>\n",
       "    <tr>\n",
       "      <th>443</th>\n",
       "      <td>0259</td>\n",
       "      <td>87</td>\n",
       "    </tr>\n",
       "    <tr>\n",
       "      <th>271</th>\n",
       "      <td>0258</td>\n",
       "      <td>87</td>\n",
       "    </tr>\n",
       "    <tr>\n",
       "      <th>175</th>\n",
       "      <td>0159</td>\n",
       "      <td>87</td>\n",
       "    </tr>\n",
       "    <tr>\n",
       "      <th>48</th>\n",
       "      <td>0496</td>\n",
       "      <td>78</td>\n",
       "    </tr>\n",
       "    <tr>\n",
       "      <th>148</th>\n",
       "      <td>0029</td>\n",
       "      <td>77</td>\n",
       "    </tr>\n",
       "  </tbody>\n",
       "</table>\n",
       "</div>"
      ],
      "text/plain": [
       "       id  amount_files\n",
       "270  0455           714\n",
       "89   0454           229\n",
       "3    0190           144\n",
       "361  0160           130\n",
       "440  0375           110\n",
       "42   0191           101\n",
       "489  0474            98\n",
       "5    0212            98\n",
       "304  0446            95\n",
       "239  0046            95\n",
       "374  0189            92\n",
       "123  0187            91\n",
       "421  0502            91\n",
       "497  0185            90\n",
       "282  0156            89\n",
       "443  0259            87\n",
       "271  0258            87\n",
       "175  0159            87\n",
       "48   0496            78\n",
       "148  0029            77"
      ]
     },
     "execution_count": 248,
     "metadata": {},
     "output_type": "execute_result"
    }
   ],
   "source": [
    "every_cat_imgs_num.sort_values(by=['amount_files'], ascending=False).head(20)"
   ]
  },
  {
   "cell_type": "code",
   "execution_count": 249,
   "id": "fffe98ab",
   "metadata": {},
   "outputs": [
    {
     "data": {
      "text/plain": [
       "array([[<AxesSubplot:title={'center':'amount_files'}>]], dtype=object)"
      ]
     },
     "execution_count": 249,
     "metadata": {},
     "output_type": "execute_result"
    },
    {
     "data": {
      "image/png": "[encoded data removed]",
      "text/plain": [
       "<Figure size 432x288 with 1 Axes>"
      ]
     },
     "metadata": {
      "needs_background": "light"
     },
     "output_type": "display_data"
    }
   ],
   "source": [
    "every_cat_imgs_num.hist(column='amount_files')"
   ]
  },
  {
   "cell_type": "code",
   "execution_count": 250,
   "id": "9eb7cb97",
   "metadata": {},
   "outputs": [
    {
     "name": "stdout",
     "output_type": "stream",
     "text": [
      "file formats: {'jpg', 'db', 'txt', 'heic', 'jpeg', 'mp4', 'png', 'mov'}\n"
     ]
    }
   ],
   "source": [
    "## file formats\n",
    "\n",
    "file_formats = set()\n",
    "for file in dataset.img:\n",
    "    cur_format = file.split('.')[-1].lower()\n",
    "    file_formats.add(cur_format)\n",
    "print('file formats:', file_formats)"
   ]
  },
  {
   "cell_type": "code",
   "execution_count": null,
   "id": "75c0a126",
   "metadata": {},
   "outputs": [],
   "source": []
  },
  {
   "cell_type": "markdown",
   "id": "317f9de5",
   "metadata": {},
   "source": [
    "### divide into three datasets (imgs, videos, others)"
   ]
  },
  {
   "cell_type": "code",
   "execution_count": 251,
   "id": "cb425360",
   "metadata": {},
   "outputs": [],
   "source": [
    "## add column with format label\n",
    "format_label = []\n",
    "\n",
    "for row_id in dataset.index:\n",
    "    dataset.loc[row_id, 'format'] = dataset.loc[row_id, 'img'].split('.')[-1].lower()"
   ]
  },
  {
   "cell_type": "code",
   "execution_count": 252,
   "id": "fcc26ab0",
   "metadata": {},
   "outputs": [],
   "source": [
    "def return_files_in_format(df, formats):\n",
    "    return df.loc[lambda df: df.format.isin(formats)]\n",
    "\n",
    "\n",
    "video_formats = set(['mp4', 'mov'])\n",
    "image_formats = set(['jpg', 'heic', 'jpeg', 'png'])\n",
    "other_formats = file_formats - video_formats - image_formats\n",
    "\n",
    "images_database = return_files_in_format(dataset, image_formats)\n",
    "movies_database = return_files_in_format(dataset, video_formats)   \n",
    "other_database = return_files_in_format(dataset, other_formats)       "
   ]
  },
  {
   "cell_type": "code",
   "execution_count": 253,
   "id": "91ae808e",
   "metadata": {},
   "outputs": [],
   "source": [
    "def save_df_to_path(df, path, name):\n",
    "    \"\"\"save dataset in path\"\"\"\n",
    "    try:\n",
    "        os.mkdir(path)\n",
    "    except FileExistsError:\n",
    "        pass\n",
    "    \n",
    "    df.to_csv(path + name)\n",
    "    return 'ok'"
   ]
  },
  {
   "cell_type": "markdown",
   "id": "2398a3c0",
   "metadata": {},
   "source": [
    "#### Others dataset"
   ]
  },
  {
   "cell_type": "code",
   "execution_count": 254,
   "id": "57960504",
   "metadata": {},
   "outputs": [
    {
     "data": {
      "text/html": [
       "<div>\n",
       "<style scoped>\n",
       "    .dataframe tbody tr th:only-of-type {\n",
       "        vertical-align: middle;\n",
       "    }\n",
       "\n",
       "    .dataframe tbody tr th {\n",
       "        vertical-align: top;\n",
       "    }\n",
       "\n",
       "    .dataframe thead th {\n",
       "        text-align: right;\n",
       "    }\n",
       "</style>\n",
       "<table border=\"1\" class=\"dataframe\">\n",
       "  <thead>\n",
       "    <tr style=\"text-align: right;\">\n",
       "      <th></th>\n",
       "      <th>id</th>\n",
       "      <th>amount_files</th>\n",
       "    </tr>\n",
       "  </thead>\n",
       "  <tbody>\n",
       "    <tr>\n",
       "      <th>0</th>\n",
       "      <td>0077</td>\n",
       "      <td>1</td>\n",
       "    </tr>\n",
       "    <tr>\n",
       "      <th>1</th>\n",
       "      <td>0432</td>\n",
       "      <td>1</td>\n",
       "    </tr>\n",
       "    <tr>\n",
       "      <th>2</th>\n",
       "      <td>0131</td>\n",
       "      <td>1</td>\n",
       "    </tr>\n",
       "    <tr>\n",
       "      <th>3</th>\n",
       "      <td>0128</td>\n",
       "      <td>1</td>\n",
       "    </tr>\n",
       "    <tr>\n",
       "      <th>4</th>\n",
       "      <td>0083</td>\n",
       "      <td>1</td>\n",
       "    </tr>\n",
       "  </tbody>\n",
       "</table>\n",
       "</div>"
      ],
      "text/plain": [
       "     id  amount_files\n",
       "0  0077             1\n",
       "1  0432             1\n",
       "2  0131             1\n",
       "3  0128             1\n",
       "4  0083             1"
      ]
     },
     "execution_count": 254,
     "metadata": {},
     "output_type": "execute_result"
    }
   ],
   "source": [
    "calc_every_cat_files_num(other_database)"
   ]
  },
  {
   "cell_type": "code",
   "execution_count": 255,
   "id": "667fb08d",
   "metadata": {},
   "outputs": [
    {
     "data": {
      "text/plain": [
       "'ok'"
      ]
     },
     "execution_count": 255,
     "metadata": {},
     "output_type": "execute_result"
    }
   ],
   "source": [
    "save_df_to_path(other_database, intermediate_data_output_dir, 'other_database.csv')"
   ]
  },
  {
   "cell_type": "markdown",
   "id": "7f867a0d",
   "metadata": {},
   "source": [
    "#### Movies dataset"
   ]
  },
  {
   "cell_type": "code",
   "execution_count": 256,
   "id": "6acf841f",
   "metadata": {},
   "outputs": [
    {
     "data": {
      "text/html": [
       "<div>\n",
       "<style scoped>\n",
       "    .dataframe tbody tr th:only-of-type {\n",
       "        vertical-align: middle;\n",
       "    }\n",
       "\n",
       "    .dataframe tbody tr th {\n",
       "        vertical-align: top;\n",
       "    }\n",
       "\n",
       "    .dataframe thead th {\n",
       "        text-align: right;\n",
       "    }\n",
       "</style>\n",
       "<table border=\"1\" class=\"dataframe\">\n",
       "  <thead>\n",
       "    <tr style=\"text-align: right;\">\n",
       "      <th></th>\n",
       "      <th>id</th>\n",
       "      <th>amount_files</th>\n",
       "    </tr>\n",
       "  </thead>\n",
       "  <tbody>\n",
       "    <tr>\n",
       "      <th>0</th>\n",
       "      <td>0454</td>\n",
       "      <td>28</td>\n",
       "    </tr>\n",
       "    <tr>\n",
       "      <th>1</th>\n",
       "      <td>0200</td>\n",
       "      <td>1</td>\n",
       "    </tr>\n",
       "    <tr>\n",
       "      <th>2</th>\n",
       "      <td>0455</td>\n",
       "      <td>20</td>\n",
       "    </tr>\n",
       "  </tbody>\n",
       "</table>\n",
       "</div>"
      ],
      "text/plain": [
       "     id  amount_files\n",
       "0  0454            28\n",
       "1  0200             1\n",
       "2  0455            20"
      ]
     },
     "execution_count": 256,
     "metadata": {},
     "output_type": "execute_result"
    }
   ],
   "source": [
    "calc_every_cat_files_num(movies_database)"
   ]
  },
  {
   "cell_type": "code",
   "execution_count": 257,
   "id": "ff51a110",
   "metadata": {},
   "outputs": [
    {
     "data": {
      "text/plain": [
       "'ok'"
      ]
     },
     "execution_count": 257,
     "metadata": {},
     "output_type": "execute_result"
    }
   ],
   "source": [
    "save_df_to_path(movies_database, intermediate_data_output_dir, 'movies_database.csv')\n",
    "        "
   ]
  },
  {
   "cell_type": "markdown",
   "id": "d96ed482",
   "metadata": {},
   "source": [
    "#### Images dataset"
   ]
  },
  {
   "cell_type": "code",
   "execution_count": 258,
   "id": "2d89cb66",
   "metadata": {},
   "outputs": [],
   "source": [
    "imgs_num = calc_every_cat_files_num(\n",
    "    images_database).sort_values(by=['amount_files'], ascending=False)"
   ]
  },
  {
   "cell_type": "code",
   "execution_count": 259,
   "id": "3502dc1a",
   "metadata": {},
   "outputs": [
    {
     "data": {
      "text/plain": [
       "count    509.000000\n",
       "mean      27.161100\n",
       "std       35.977377\n",
       "min        6.000000\n",
       "25%       14.000000\n",
       "50%       20.000000\n",
       "75%       30.000000\n",
       "max      694.000000\n",
       "Name: amount_files, dtype: float64"
      ]
     },
     "execution_count": 259,
     "metadata": {},
     "output_type": "execute_result"
    }
   ],
   "source": [
    "imgs_num.amount_files.describe()"
   ]
  },
  {
   "cell_type": "code",
   "execution_count": 260,
   "id": "e481c1f6",
   "metadata": {},
   "outputs": [
    {
     "data": {
      "text/plain": [
       "20.0"
      ]
     },
     "execution_count": 260,
     "metadata": {},
     "output_type": "execute_result"
    }
   ],
   "source": [
    "imgs_num.amount_files.median()"
   ]
  },
  {
   "cell_type": "code",
   "execution_count": 261,
   "id": "17d8560b",
   "metadata": {},
   "outputs": [
    {
     "data": {
      "text/html": [
       "<div>\n",
       "<style scoped>\n",
       "    .dataframe tbody tr th:only-of-type {\n",
       "        vertical-align: middle;\n",
       "    }\n",
       "\n",
       "    .dataframe tbody tr th {\n",
       "        vertical-align: top;\n",
       "    }\n",
       "\n",
       "    .dataframe thead th {\n",
       "        text-align: right;\n",
       "    }\n",
       "</style>\n",
       "<table border=\"1\" class=\"dataframe\">\n",
       "  <thead>\n",
       "    <tr style=\"text-align: right;\">\n",
       "      <th></th>\n",
       "      <th>id</th>\n",
       "      <th>amount_files</th>\n",
       "    </tr>\n",
       "  </thead>\n",
       "  <tbody>\n",
       "    <tr>\n",
       "      <th>270</th>\n",
       "      <td>0455</td>\n",
       "      <td>694</td>\n",
       "    </tr>\n",
       "    <tr>\n",
       "      <th>89</th>\n",
       "      <td>0454</td>\n",
       "      <td>201</td>\n",
       "    </tr>\n",
       "    <tr>\n",
       "      <th>3</th>\n",
       "      <td>0190</td>\n",
       "      <td>144</td>\n",
       "    </tr>\n",
       "    <tr>\n",
       "      <th>361</th>\n",
       "      <td>0160</td>\n",
       "      <td>130</td>\n",
       "    </tr>\n",
       "    <tr>\n",
       "      <th>440</th>\n",
       "      <td>0375</td>\n",
       "      <td>110</td>\n",
       "    </tr>\n",
       "    <tr>\n",
       "      <th>...</th>\n",
       "      <td>...</td>\n",
       "      <td>...</td>\n",
       "    </tr>\n",
       "    <tr>\n",
       "      <th>377</th>\n",
       "      <td>0039</td>\n",
       "      <td>6</td>\n",
       "    </tr>\n",
       "    <tr>\n",
       "      <th>129</th>\n",
       "      <td>0111</td>\n",
       "      <td>6</td>\n",
       "    </tr>\n",
       "    <tr>\n",
       "      <th>441</th>\n",
       "      <td>0038</td>\n",
       "      <td>6</td>\n",
       "    </tr>\n",
       "    <tr>\n",
       "      <th>321</th>\n",
       "      <td>0130</td>\n",
       "      <td>6</td>\n",
       "    </tr>\n",
       "    <tr>\n",
       "      <th>461</th>\n",
       "      <td>0335</td>\n",
       "      <td>6</td>\n",
       "    </tr>\n",
       "  </tbody>\n",
       "</table>\n",
       "<p>509 rows × 2 columns</p>\n",
       "</div>"
      ],
      "text/plain": [
       "       id  amount_files\n",
       "270  0455           694\n",
       "89   0454           201\n",
       "3    0190           144\n",
       "361  0160           130\n",
       "440  0375           110\n",
       "..    ...           ...\n",
       "377  0039             6\n",
       "129  0111             6\n",
       "441  0038             6\n",
       "321  0130             6\n",
       "461  0335             6\n",
       "\n",
       "[509 rows x 2 columns]"
      ]
     },
     "execution_count": 261,
     "metadata": {},
     "output_type": "execute_result"
    }
   ],
   "source": [
    "imgs_num"
   ]
  },
  {
   "cell_type": "code",
   "execution_count": 262,
   "id": "95d5b704",
   "metadata": {},
   "outputs": [
    {
     "data": {
      "text/plain": [
       "array([6])"
      ]
     },
     "execution_count": 262,
     "metadata": {},
     "output_type": "execute_result"
    }
   ],
   "source": [
    " imgs_num.loc[imgs_num.id==cat_id, 'amount_files'].values"
   ]
  },
  {
   "cell_type": "code",
   "execution_count": 263,
   "id": "a6b94fe7",
   "metadata": {},
   "outputs": [
    {
     "data": {
      "text/plain": [
       "321    0130\n",
       "Name: id, dtype: object"
      ]
     },
     "execution_count": 263,
     "metadata": {},
     "output_type": "execute_result"
    }
   ],
   "source": [
    "imgs_num.id[imgs_num.id == cat_id]"
   ]
  },
  {
   "cell_type": "code",
   "execution_count": 264,
   "id": "1e2f1e72",
   "metadata": {},
   "outputs": [],
   "source": [
    "max_img_amount = int(imgs_num.amount_files.median())\n",
    "\n",
    "extra_cats_imgs = pd.DataFrame()\n",
    "processed_cats_imgs = pd.DataFrame()\n",
    "\n",
    "for cat_id in imgs_num.id:\n",
    "   \n",
    "    extra_imgs = pd.DataFrame()\n",
    "    cat_imgs = images_database.loc[dataset.cat_id == cat_id, :]\n",
    "    if  imgs_num.loc[imgs_num.id==cat_id, 'amount_files'].values > max_img_amount:\n",
    "            _cat_imgs = cat_imgs.sample(n=max_img_amount, random_state=1) \n",
    "            extra_imgs = cat_imgs.drop(_cat_imgs.index)\n",
    "       \n",
    "            cat_imgs = _cat_imgs\n",
    "            extra_cats_imgs = extra_cats_imgs.append(extra_imgs, ignore_index=True)\n",
    "            \n",
    "            \n",
    "    processed_cats_imgs = processed_cats_imgs.append(cat_imgs, ignore_index=True)\n",
    "        \n",
    "        \n",
    "\n",
    "        \n",
    "    \n",
    "    \n",
    "        "
   ]
  },
  {
   "cell_type": "code",
   "execution_count": 265,
   "id": "ed3cbc11",
   "metadata": {},
   "outputs": [
    {
     "data": {
      "text/plain": [
       "array([[<AxesSubplot:title={'center':'amount_files'}>]], dtype=object)"
      ]
     },
     "execution_count": 265,
     "metadata": {},
     "output_type": "execute_result"
    },
    {
     "data": {
      "image/png": "[encoded data removed]",
      "text/plain": [
       "<Figure size 432x288 with 1 Axes>"
      ]
     },
     "metadata": {
      "needs_background": "light"
     },
     "output_type": "display_data"
    },
    {
     "data": {
      "image/png": "[encoded data removed]",
      "text/plain": [
       "<Figure size 432x288 with 1 Axes>"
      ]
     },
     "metadata": {
      "needs_background": "light"
     },
     "output_type": "display_data"
    }
   ],
   "source": [
    "calc_every_cat_files_num(processed_cats_imgs).hist()\n",
    "calc_every_cat_files_num(extra_cats_imgs).hist()"
   ]
  },
  {
   "cell_type": "code",
   "execution_count": 266,
   "id": "9a4831d6",
   "metadata": {},
   "outputs": [
    {
     "data": {
      "text/plain": [
       "'ok'"
      ]
     },
     "execution_count": 266,
     "metadata": {},
     "output_type": "execute_result"
    }
   ],
   "source": [
    "save_df_to_path(processed_cats_imgs, \n",
    "                processed_data_output_dir, \n",
    "                'cat_individual_database.csv')\n",
    "save_df_to_path(extra_cats_imgs, \n",
    "                processed_data_output_dir, \n",
    "                'cat_individual_database_extra_images.csv')"
   ]
  },
  {
   "cell_type": "code",
   "execution_count": 267,
   "id": "66bf4ddf",
   "metadata": {},
   "outputs": [
    {
     "data": {
      "text/html": [
       "<div>\n",
       "<style scoped>\n",
       "    .dataframe tbody tr th:only-of-type {\n",
       "        vertical-align: middle;\n",
       "    }\n",
       "\n",
       "    .dataframe tbody tr th {\n",
       "        vertical-align: top;\n",
       "    }\n",
       "\n",
       "    .dataframe thead th {\n",
       "        text-align: right;\n",
       "    }\n",
       "</style>\n",
       "<table border=\"1\" class=\"dataframe\">\n",
       "  <thead>\n",
       "    <tr style=\"text-align: right;\">\n",
       "      <th></th>\n",
       "      <th>cat_id</th>\n",
       "      <th>img</th>\n",
       "      <th>path</th>\n",
       "      <th>format</th>\n",
       "    </tr>\n",
       "  </thead>\n",
       "  <tbody>\n",
       "    <tr>\n",
       "      <th>0</th>\n",
       "      <td>0455</td>\n",
       "      <td>IMG_6935.jpg</td>\n",
       "      <td>0455/0455_357/IMG_6935.jpg</td>\n",
       "      <td>jpg</td>\n",
       "    </tr>\n",
       "    <tr>\n",
       "      <th>1</th>\n",
       "      <td>0455</td>\n",
       "      <td>0455_111.heic</td>\n",
       "      <td>0455/0455_111.heic</td>\n",
       "      <td>heic</td>\n",
       "    </tr>\n",
       "    <tr>\n",
       "      <th>2</th>\n",
       "      <td>0455</td>\n",
       "      <td>IMG_7724.heic</td>\n",
       "      <td>0455/0455_357/IMG_7724.heic</td>\n",
       "      <td>heic</td>\n",
       "    </tr>\n",
       "    <tr>\n",
       "      <th>3</th>\n",
       "      <td>0455</td>\n",
       "      <td>IMG_9541.heic</td>\n",
       "      <td>0455/0455_357/IMG_9541.heic</td>\n",
       "      <td>heic</td>\n",
       "    </tr>\n",
       "    <tr>\n",
       "      <th>4</th>\n",
       "      <td>0455</td>\n",
       "      <td>0455_164.heic</td>\n",
       "      <td>0455/0455_164.heic</td>\n",
       "      <td>heic</td>\n",
       "    </tr>\n",
       "    <tr>\n",
       "      <th>...</th>\n",
       "      <td>...</td>\n",
       "      <td>...</td>\n",
       "      <td>...</td>\n",
       "      <td>...</td>\n",
       "    </tr>\n",
       "    <tr>\n",
       "      <th>8660</th>\n",
       "      <td>0335</td>\n",
       "      <td>0335_003.jpg</td>\n",
       "      <td>0335/0335_003.jpg</td>\n",
       "      <td>jpg</td>\n",
       "    </tr>\n",
       "    <tr>\n",
       "      <th>8661</th>\n",
       "      <td>0335</td>\n",
       "      <td>0335_005.jpg</td>\n",
       "      <td>0335/0335_005.jpg</td>\n",
       "      <td>jpg</td>\n",
       "    </tr>\n",
       "    <tr>\n",
       "      <th>8662</th>\n",
       "      <td>0335</td>\n",
       "      <td>0335_004.jpg</td>\n",
       "      <td>0335/0335_004.jpg</td>\n",
       "      <td>jpg</td>\n",
       "    </tr>\n",
       "    <tr>\n",
       "      <th>8663</th>\n",
       "      <td>0335</td>\n",
       "      <td>0335_002.jpg</td>\n",
       "      <td>0335/0335_002.jpg</td>\n",
       "      <td>jpg</td>\n",
       "    </tr>\n",
       "    <tr>\n",
       "      <th>8664</th>\n",
       "      <td>0335</td>\n",
       "      <td>0335_000.jpg</td>\n",
       "      <td>0335/0335_000.jpg</td>\n",
       "      <td>jpg</td>\n",
       "    </tr>\n",
       "  </tbody>\n",
       "</table>\n",
       "<p>8665 rows × 4 columns</p>\n",
       "</div>"
      ],
      "text/plain": [
       "     cat_id            img                         path format\n",
       "0      0455   IMG_6935.jpg   0455/0455_357/IMG_6935.jpg    jpg\n",
       "1      0455  0455_111.heic           0455/0455_111.heic   heic\n",
       "2      0455  IMG_7724.heic  0455/0455_357/IMG_7724.heic   heic\n",
       "3      0455  IMG_9541.heic  0455/0455_357/IMG_9541.heic   heic\n",
       "4      0455  0455_164.heic           0455/0455_164.heic   heic\n",
       "...     ...            ...                          ...    ...\n",
       "8660   0335   0335_003.jpg            0335/0335_003.jpg    jpg\n",
       "8661   0335   0335_005.jpg            0335/0335_005.jpg    jpg\n",
       "8662   0335   0335_004.jpg            0335/0335_004.jpg    jpg\n",
       "8663   0335   0335_002.jpg            0335/0335_002.jpg    jpg\n",
       "8664   0335   0335_000.jpg            0335/0335_000.jpg    jpg\n",
       "\n",
       "[8665 rows x 4 columns]"
      ]
     },
     "execution_count": 267,
     "metadata": {},
     "output_type": "execute_result"
    }
   ],
   "source": [
    "processed_cats_imgs"
   ]
  },
  {
   "cell_type": "code",
   "execution_count": 268,
   "id": "627a2d0a",
   "metadata": {},
   "outputs": [
    {
     "data": {
      "text/html": [
       "<div>\n",
       "<style scoped>\n",
       "    .dataframe tbody tr th:only-of-type {\n",
       "        vertical-align: middle;\n",
       "    }\n",
       "\n",
       "    .dataframe tbody tr th {\n",
       "        vertical-align: top;\n",
       "    }\n",
       "\n",
       "    .dataframe thead th {\n",
       "        text-align: right;\n",
       "    }\n",
       "</style>\n",
       "<table border=\"1\" class=\"dataframe\">\n",
       "  <thead>\n",
       "    <tr style=\"text-align: right;\">\n",
       "      <th></th>\n",
       "      <th>cat_id</th>\n",
       "      <th>img</th>\n",
       "      <th>path</th>\n",
       "      <th>format</th>\n",
       "    </tr>\n",
       "  </thead>\n",
       "  <tbody>\n",
       "    <tr>\n",
       "      <th>0</th>\n",
       "      <td>0455</td>\n",
       "      <td>IMG_6935.jpg</td>\n",
       "      <td>0455/0455_357/IMG_6935.jpg</td>\n",
       "      <td>jpg</td>\n",
       "    </tr>\n",
       "    <tr>\n",
       "      <th>1</th>\n",
       "      <td>0455</td>\n",
       "      <td>0455_111.heic</td>\n",
       "      <td>0455/0455_111.heic</td>\n",
       "      <td>heic</td>\n",
       "    </tr>\n",
       "    <tr>\n",
       "      <th>2</th>\n",
       "      <td>0455</td>\n",
       "      <td>IMG_7724.heic</td>\n",
       "      <td>0455/0455_357/IMG_7724.heic</td>\n",
       "      <td>heic</td>\n",
       "    </tr>\n",
       "    <tr>\n",
       "      <th>3</th>\n",
       "      <td>0455</td>\n",
       "      <td>IMG_9541.heic</td>\n",
       "      <td>0455/0455_357/IMG_9541.heic</td>\n",
       "      <td>heic</td>\n",
       "    </tr>\n",
       "    <tr>\n",
       "      <th>4</th>\n",
       "      <td>0455</td>\n",
       "      <td>0455_164.heic</td>\n",
       "      <td>0455/0455_164.heic</td>\n",
       "      <td>heic</td>\n",
       "    </tr>\n",
       "    <tr>\n",
       "      <th>5</th>\n",
       "      <td>0455</td>\n",
       "      <td>0455_238.heic</td>\n",
       "      <td>0455/0455_238.heic</td>\n",
       "      <td>heic</td>\n",
       "    </tr>\n",
       "    <tr>\n",
       "      <th>6</th>\n",
       "      <td>0455</td>\n",
       "      <td>IMG_2922.jpg</td>\n",
       "      <td>0455/0455_357/IMG_2922.jpg</td>\n",
       "      <td>jpg</td>\n",
       "    </tr>\n",
       "    <tr>\n",
       "      <th>7</th>\n",
       "      <td>0455</td>\n",
       "      <td>0455_286.heic</td>\n",
       "      <td>0455/0455_286.heic</td>\n",
       "      <td>heic</td>\n",
       "    </tr>\n",
       "    <tr>\n",
       "      <th>8</th>\n",
       "      <td>0455</td>\n",
       "      <td>0455_258.heic</td>\n",
       "      <td>0455/0455_258.heic</td>\n",
       "      <td>heic</td>\n",
       "    </tr>\n",
       "    <tr>\n",
       "      <th>9</th>\n",
       "      <td>0455</td>\n",
       "      <td>IMG_1258.jpg</td>\n",
       "      <td>0455/0455_357/IMG_1258.jpg</td>\n",
       "      <td>jpg</td>\n",
       "    </tr>\n",
       "    <tr>\n",
       "      <th>10</th>\n",
       "      <td>0455</td>\n",
       "      <td>IMG_0680.jpg</td>\n",
       "      <td>0455/0455_357/IMG_0680.jpg</td>\n",
       "      <td>jpg</td>\n",
       "    </tr>\n",
       "    <tr>\n",
       "      <th>11</th>\n",
       "      <td>0455</td>\n",
       "      <td>IMG_1581.heic</td>\n",
       "      <td>0455/0455_357/IMG_1581.heic</td>\n",
       "      <td>heic</td>\n",
       "    </tr>\n",
       "    <tr>\n",
       "      <th>12</th>\n",
       "      <td>0455</td>\n",
       "      <td>0455_002.jpg</td>\n",
       "      <td>0455/0455_002.jpg</td>\n",
       "      <td>jpg</td>\n",
       "    </tr>\n",
       "    <tr>\n",
       "      <th>13</th>\n",
       "      <td>0455</td>\n",
       "      <td>IMG_8863.heic</td>\n",
       "      <td>0455/0455_357/IMG_8863.heic</td>\n",
       "      <td>heic</td>\n",
       "    </tr>\n",
       "    <tr>\n",
       "      <th>14</th>\n",
       "      <td>0455</td>\n",
       "      <td>IMG_9586.heic</td>\n",
       "      <td>0455/0455_357/IMG_9586.heic</td>\n",
       "      <td>heic</td>\n",
       "    </tr>\n",
       "    <tr>\n",
       "      <th>15</th>\n",
       "      <td>0455</td>\n",
       "      <td>IMG_9581.heic</td>\n",
       "      <td>0455/0455_357/IMG_9581.heic</td>\n",
       "      <td>heic</td>\n",
       "    </tr>\n",
       "    <tr>\n",
       "      <th>16</th>\n",
       "      <td>0455</td>\n",
       "      <td>0455_053.jpg</td>\n",
       "      <td>0455/0455_053.jpg</td>\n",
       "      <td>jpg</td>\n",
       "    </tr>\n",
       "    <tr>\n",
       "      <th>17</th>\n",
       "      <td>0455</td>\n",
       "      <td>IMG_8536.heic</td>\n",
       "      <td>0455/0455_357/IMG_8536.heic</td>\n",
       "      <td>heic</td>\n",
       "    </tr>\n",
       "    <tr>\n",
       "      <th>18</th>\n",
       "      <td>0455</td>\n",
       "      <td>0455_229.heic</td>\n",
       "      <td>0455/0455_229.heic</td>\n",
       "      <td>heic</td>\n",
       "    </tr>\n",
       "    <tr>\n",
       "      <th>19</th>\n",
       "      <td>0455</td>\n",
       "      <td>0455_141.heic</td>\n",
       "      <td>0455/0455_141.heic</td>\n",
       "      <td>heic</td>\n",
       "    </tr>\n",
       "  </tbody>\n",
       "</table>\n",
       "</div>"
      ],
      "text/plain": [
       "   cat_id            img                         path format\n",
       "0    0455   IMG_6935.jpg   0455/0455_357/IMG_6935.jpg    jpg\n",
       "1    0455  0455_111.heic           0455/0455_111.heic   heic\n",
       "2    0455  IMG_7724.heic  0455/0455_357/IMG_7724.heic   heic\n",
       "3    0455  IMG_9541.heic  0455/0455_357/IMG_9541.heic   heic\n",
       "4    0455  0455_164.heic           0455/0455_164.heic   heic\n",
       "5    0455  0455_238.heic           0455/0455_238.heic   heic\n",
       "6    0455   IMG_2922.jpg   0455/0455_357/IMG_2922.jpg    jpg\n",
       "7    0455  0455_286.heic           0455/0455_286.heic   heic\n",
       "8    0455  0455_258.heic           0455/0455_258.heic   heic\n",
       "9    0455   IMG_1258.jpg   0455/0455_357/IMG_1258.jpg    jpg\n",
       "10   0455   IMG_0680.jpg   0455/0455_357/IMG_0680.jpg    jpg\n",
       "11   0455  IMG_1581.heic  0455/0455_357/IMG_1581.heic   heic\n",
       "12   0455   0455_002.jpg            0455/0455_002.jpg    jpg\n",
       "13   0455  IMG_8863.heic  0455/0455_357/IMG_8863.heic   heic\n",
       "14   0455  IMG_9586.heic  0455/0455_357/IMG_9586.heic   heic\n",
       "15   0455  IMG_9581.heic  0455/0455_357/IMG_9581.heic   heic\n",
       "16   0455   0455_053.jpg            0455/0455_053.jpg    jpg\n",
       "17   0455  IMG_8536.heic  0455/0455_357/IMG_8536.heic   heic\n",
       "18   0455  0455_229.heic           0455/0455_229.heic   heic\n",
       "19   0455  0455_141.heic           0455/0455_141.heic   heic"
      ]
     },
     "execution_count": 268,
     "metadata": {},
     "output_type": "execute_result"
    }
   ],
   "source": [
    "processed_cats_imgs[processed_cats_imgs.cat_id == '0455']"
   ]
  },
  {
   "cell_type": "markdown",
   "id": "669d32c0",
   "metadata": {},
   "source": [
    "#### path validation"
   ]
  },
  {
   "cell_type": "code",
   "execution_count": 272,
   "id": "7a12ed80",
   "metadata": {},
   "outputs": [],
   "source": [
    "# dataset_dir = 'WRITE YOUR PATH/archive/cat_individuals_dataset/'\n",
    "\n",
    "# for image_path in processed_cats_imgs.path:\n",
    "#     status = os.path.exists(dataset_dir + image_path)\n",
    "#     if not status:\n",
    "#         print('incorrect: ', image_path)"
   ]
  },
  {
   "cell_type": "code",
   "execution_count": null,
   "id": "fb17e35a",
   "metadata": {},
   "outputs": [],
   "source": []
  }
 ],
 "metadata": {
  "kernelspec": {
   "display_name": "Python 3 (ipykernel)",
   "language": "python",
   "name": "python3"
  },
  "language_info": {
   "codemirror_mode": {
    "name": "ipython",
    "version": 3
   },
   "file_extension": ".py",
   "mimetype": "text/x-python",
   "name": "python",
   "nbconvert_exporter": "python",
   "pygments_lexer": "ipython3",
   "version": "3.9.7"
  }
 },
 "nbformat": 4,
 "nbformat_minor": 5
}
