{
 "cells": [
  {
   "cell_type": "code",
   "execution_count": 154,
   "id": "adcb1c0d",
   "metadata": {},
   "outputs": [],
   "source": [
    "from pathlib import Path\n",
    "import pandas as pd\n",
    "import os\n",
    "import numpy as np"
   ]
  },
  {
   "cell_type": "markdown",
   "id": "1875e5a4",
   "metadata": {},
   "source": [
    "### dirs and dataset"
   ]
  },
  {
   "cell_type": "code",
   "execution_count": 39,
   "id": "0106eb4b",
   "metadata": {},
   "outputs": [
    {
     "data": {
      "text/plain": [
       "'/home/art/PycharmProjects/recatizer/'"
      ]
     },
     "execution_count": 39,
     "metadata": {},
     "output_type": "execute_result"
    }
   ],
   "source": [
    "project_dir = os.path.abspath(os.curdir)\n",
    "project_dir = project_dir.split('recatizer/')[0] + 'recatizer/'\n",
    " "
   ]
  },
  {
   "cell_type": "code",
   "execution_count": 112,
   "id": "c27bf340",
   "metadata": {},
   "outputs": [],
   "source": [
    "raw_data_dir = project_dir + 'data/raw/' # <- The original, immutable data dump.\n",
    "intermediate_data_output_dir = project_dir + \\\n",
    "        'data/interim/cat_individuals_dataset/'# <- Intermediate data that has been transformed.\n",
    "processed_data_output_dir = project_dir + \\\n",
    "        'data/processed/'#  <- The final, canonical data sets for modeling.   "
   ]
  },
  {
   "cell_type": "code",
   "execution_count": 47,
   "id": "58a65de9",
   "metadata": {},
   "outputs": [
    {
     "data": {
      "text/html": [
       "<div>\n",
       "<style scoped>\n",
       "    .dataframe tbody tr th:only-of-type {\n",
       "        vertical-align: middle;\n",
       "    }\n",
       "\n",
       "    .dataframe tbody tr th {\n",
       "        vertical-align: top;\n",
       "    }\n",
       "\n",
       "    .dataframe thead th {\n",
       "        text-align: right;\n",
       "    }\n",
       "</style>\n",
       "<table border=\"1\" class=\"dataframe\">\n",
       "  <thead>\n",
       "    <tr style=\"text-align: right;\">\n",
       "      <th></th>\n",
       "      <th>cat_id</th>\n",
       "      <th>img</th>\n",
       "      <th>path</th>\n",
       "    </tr>\n",
       "  </thead>\n",
       "  <tbody>\n",
       "    <tr>\n",
       "      <th>0</th>\n",
       "      <td>0035</td>\n",
       "      <td>0035_013.JPG</td>\n",
       "      <td>0035/0035_013.JPG</td>\n",
       "    </tr>\n",
       "    <tr>\n",
       "      <th>1</th>\n",
       "      <td>0035</td>\n",
       "      <td>0035_009.JPG</td>\n",
       "      <td>0035/0035_009.JPG</td>\n",
       "    </tr>\n",
       "    <tr>\n",
       "      <th>2</th>\n",
       "      <td>0035</td>\n",
       "      <td>0035_000.JPG</td>\n",
       "      <td>0035/0035_000.JPG</td>\n",
       "    </tr>\n",
       "    <tr>\n",
       "      <th>3</th>\n",
       "      <td>0035</td>\n",
       "      <td>0035_005.JPG</td>\n",
       "      <td>0035/0035_005.JPG</td>\n",
       "    </tr>\n",
       "    <tr>\n",
       "      <th>4</th>\n",
       "      <td>0035</td>\n",
       "      <td>0035_003.JPG</td>\n",
       "      <td>0035/0035_003.JPG</td>\n",
       "    </tr>\n",
       "  </tbody>\n",
       "</table>\n",
       "</div>"
      ],
      "text/plain": [
       "  cat_id           img               path\n",
       "0   0035  0035_013.JPG  0035/0035_013.JPG\n",
       "1   0035  0035_009.JPG  0035/0035_009.JPG\n",
       "2   0035  0035_000.JPG  0035/0035_000.JPG\n",
       "3   0035  0035_005.JPG  0035/0035_005.JPG\n",
       "4   0035  0035_003.JPG  0035/0035_003.JPG"
      ]
     },
     "execution_count": 47,
     "metadata": {},
     "output_type": "execute_result"
    }
   ],
   "source": [
    "dataset = pd.read_csv(raw_data_dir + 'images_database.csv', index_col=0)\n",
    "dataset.head()"
   ]
  },
  {
   "cell_type": "markdown",
   "id": "9a5b91b9",
   "metadata": {},
   "source": [
    "#### amount files about every cats"
   ]
  },
  {
   "cell_type": "code",
   "execution_count": 91,
   "id": "8c875b5d",
   "metadata": {},
   "outputs": [],
   "source": [
    "def calc_every_cat_files_num(dataset):\n",
    "    cat_ids = dataset.cat_id.unique()\n",
    "    # every_cat_imgs_num = \n",
    "    every_cat_imgs_num =[]\n",
    "    for cat_id in cat_ids:\n",
    "        every_cat_imgs_num.append(\n",
    "            {'id': cat_id, \n",
    "             'amount_files': len(dataset.cat_id[dataset.cat_id == cat_id])}   \n",
    "        )\n",
    "    return pd.DataFrame(every_cat_imgs_num)\n",
    "\n",
    "\n",
    "every_cat_imgs_num = calc_every_cat_files_num(dataset)"
   ]
  },
  {
   "cell_type": "code",
   "execution_count": 96,
   "id": "3a9ce5ff",
   "metadata": {},
   "outputs": [
    {
     "data": {
      "text/html": [
       "<div>\n",
       "<style scoped>\n",
       "    .dataframe tbody tr th:only-of-type {\n",
       "        vertical-align: middle;\n",
       "    }\n",
       "\n",
       "    .dataframe tbody tr th {\n",
       "        vertical-align: top;\n",
       "    }\n",
       "\n",
       "    .dataframe thead th {\n",
       "        text-align: right;\n",
       "    }\n",
       "</style>\n",
       "<table border=\"1\" class=\"dataframe\">\n",
       "  <thead>\n",
       "    <tr style=\"text-align: right;\">\n",
       "      <th></th>\n",
       "      <th>id</th>\n",
       "      <th>amount_files</th>\n",
       "    </tr>\n",
       "  </thead>\n",
       "  <tbody>\n",
       "    <tr>\n",
       "      <th>271</th>\n",
       "      <td>0455_357</td>\n",
       "      <td>357</td>\n",
       "    </tr>\n",
       "    <tr>\n",
       "      <th>270</th>\n",
       "      <td>0455</td>\n",
       "      <td>357</td>\n",
       "    </tr>\n",
       "    <tr>\n",
       "      <th>89</th>\n",
       "      <td>0454</td>\n",
       "      <td>229</td>\n",
       "    </tr>\n",
       "    <tr>\n",
       "      <th>3</th>\n",
       "      <td>0190</td>\n",
       "      <td>144</td>\n",
       "    </tr>\n",
       "    <tr>\n",
       "      <th>362</th>\n",
       "      <td>0160</td>\n",
       "      <td>130</td>\n",
       "    </tr>\n",
       "    <tr>\n",
       "      <th>441</th>\n",
       "      <td>0375</td>\n",
       "      <td>110</td>\n",
       "    </tr>\n",
       "    <tr>\n",
       "      <th>42</th>\n",
       "      <td>0191</td>\n",
       "      <td>101</td>\n",
       "    </tr>\n",
       "    <tr>\n",
       "      <th>5</th>\n",
       "      <td>0212</td>\n",
       "      <td>98</td>\n",
       "    </tr>\n",
       "    <tr>\n",
       "      <th>490</th>\n",
       "      <td>0474</td>\n",
       "      <td>98</td>\n",
       "    </tr>\n",
       "    <tr>\n",
       "      <th>305</th>\n",
       "      <td>0446</td>\n",
       "      <td>95</td>\n",
       "    </tr>\n",
       "    <tr>\n",
       "      <th>239</th>\n",
       "      <td>0046</td>\n",
       "      <td>95</td>\n",
       "    </tr>\n",
       "    <tr>\n",
       "      <th>375</th>\n",
       "      <td>0189</td>\n",
       "      <td>92</td>\n",
       "    </tr>\n",
       "    <tr>\n",
       "      <th>422</th>\n",
       "      <td>0502</td>\n",
       "      <td>91</td>\n",
       "    </tr>\n",
       "    <tr>\n",
       "      <th>123</th>\n",
       "      <td>0187</td>\n",
       "      <td>91</td>\n",
       "    </tr>\n",
       "    <tr>\n",
       "      <th>498</th>\n",
       "      <td>0185</td>\n",
       "      <td>90</td>\n",
       "    </tr>\n",
       "    <tr>\n",
       "      <th>283</th>\n",
       "      <td>0156</td>\n",
       "      <td>89</td>\n",
       "    </tr>\n",
       "    <tr>\n",
       "      <th>272</th>\n",
       "      <td>0258</td>\n",
       "      <td>87</td>\n",
       "    </tr>\n",
       "    <tr>\n",
       "      <th>444</th>\n",
       "      <td>0259</td>\n",
       "      <td>87</td>\n",
       "    </tr>\n",
       "    <tr>\n",
       "      <th>175</th>\n",
       "      <td>0159</td>\n",
       "      <td>87</td>\n",
       "    </tr>\n",
       "    <tr>\n",
       "      <th>48</th>\n",
       "      <td>0496</td>\n",
       "      <td>78</td>\n",
       "    </tr>\n",
       "  </tbody>\n",
       "</table>\n",
       "</div>"
      ],
      "text/plain": [
       "           id  amount_files\n",
       "271  0455_357           357\n",
       "270      0455           357\n",
       "89       0454           229\n",
       "3        0190           144\n",
       "362      0160           130\n",
       "441      0375           110\n",
       "42       0191           101\n",
       "5        0212            98\n",
       "490      0474            98\n",
       "305      0446            95\n",
       "239      0046            95\n",
       "375      0189            92\n",
       "422      0502            91\n",
       "123      0187            91\n",
       "498      0185            90\n",
       "283      0156            89\n",
       "272      0258            87\n",
       "444      0259            87\n",
       "175      0159            87\n",
       "48       0496            78"
      ]
     },
     "execution_count": 96,
     "metadata": {},
     "output_type": "execute_result"
    }
   ],
   "source": [
    "every_cat_imgs_num.sort_values(by=['amount_files'], ascending=False).head(20)"
   ]
  },
  {
   "cell_type": "code",
   "execution_count": 94,
   "id": "fffe98ab",
   "metadata": {},
   "outputs": [
    {
     "data": {
      "text/plain": [
       "array([[<AxesSubplot:title={'center':'amount_files'}>]], dtype=object)"
      ]
     },
     "execution_count": 94,
     "metadata": {},
     "output_type": "execute_result"
    },
    {
     "data": {
      "image/png": "[encoded data removed]",
      "text/plain": [
       "<Figure size 432x288 with 1 Axes>"
      ]
     },
     "metadata": {
      "needs_background": "light"
     },
     "output_type": "display_data"
    }
   ],
   "source": [
    "every_cat_imgs_num.hist(column='amount_files')"
   ]
  },
  {
   "cell_type": "code",
   "execution_count": 63,
   "id": "9eb7cb97",
   "metadata": {},
   "outputs": [
    {
     "name": "stdout",
     "output_type": "stream",
     "text": [
      "file formats: {'jpg', 'db', 'txt', 'heic', 'jpeg', 'mp4', 'png', 'mov'}\n"
     ]
    }
   ],
   "source": [
    "## file formats\n",
    "\n",
    "file_formats = set()\n",
    "for file in dataset.img:\n",
    "    cur_format = file.split('.')[-1].lower()\n",
    "    file_formats.add(cur_format)\n",
    "print('file formats:', file_formats)"
   ]
  },
  {
   "cell_type": "markdown",
   "id": "317f9de5",
   "metadata": {},
   "source": [
    "### divide into three datasets (imgs, videos, others)"
   ]
  },
  {
   "cell_type": "code",
   "execution_count": 70,
   "id": "cb425360",
   "metadata": {},
   "outputs": [],
   "source": [
    "## add column with format label\n",
    "format_label = []\n",
    "\n",
    "for row_id in dataset.index:\n",
    "    dataset.loc[row_id, 'format'] = dataset.loc[row_id, 'img'].split('.')[-1].lower()"
   ]
  },
  {
   "cell_type": "code",
   "execution_count": 82,
   "id": "fcc26ab0",
   "metadata": {},
   "outputs": [],
   "source": [
    "def return_files_in_format(df, formats):\n",
    "    return df.loc[lambda df: df.format.isin(formats)]\n",
    "\n",
    "\n",
    "video_formats = set(['mp4', 'mov'])\n",
    "image_formats = set(['jpg', 'heic', 'jpeg', 'png'])\n",
    "other_formats = file_formats - video_formats - image_formats\n",
    "\n",
    "images_database = return_files_in_format(dataset, image_formats)\n",
    "movies_database = return_files_in_format(dataset, video_formats)   \n",
    "other_database = return_files_in_format(dataset, other_formats)       "
   ]
  },
  {
   "cell_type": "code",
   "execution_count": 115,
   "id": "91ae808e",
   "metadata": {},
   "outputs": [],
   "source": [
    "def save_df_to_path(df, path, name):\n",
    "    \"\"\"save dataset in path\"\"\"\n",
    "    try:\n",
    "        os.mkdir(path)\n",
    "    except FileExistsError:\n",
    "        pass\n",
    "    \n",
    "    df.to_csv(path + name)\n",
    "    return 'ok'"
   ]
  },
  {
   "cell_type": "markdown",
   "id": "2398a3c0",
   "metadata": {},
   "source": [
    "#### Others dataset"
   ]
  },
  {
   "cell_type": "code",
   "execution_count": 101,
   "id": "57960504",
   "metadata": {},
   "outputs": [
    {
     "data": {
      "text/html": [
       "<div>\n",
       "<style scoped>\n",
       "    .dataframe tbody tr th:only-of-type {\n",
       "        vertical-align: middle;\n",
       "    }\n",
       "\n",
       "    .dataframe tbody tr th {\n",
       "        vertical-align: top;\n",
       "    }\n",
       "\n",
       "    .dataframe thead th {\n",
       "        text-align: right;\n",
       "    }\n",
       "</style>\n",
       "<table border=\"1\" class=\"dataframe\">\n",
       "  <thead>\n",
       "    <tr style=\"text-align: right;\">\n",
       "      <th></th>\n",
       "      <th>id</th>\n",
       "      <th>amount_files</th>\n",
       "    </tr>\n",
       "  </thead>\n",
       "  <tbody>\n",
       "    <tr>\n",
       "      <th>0</th>\n",
       "      <td>0077</td>\n",
       "      <td>1</td>\n",
       "    </tr>\n",
       "    <tr>\n",
       "      <th>1</th>\n",
       "      <td>0432</td>\n",
       "      <td>1</td>\n",
       "    </tr>\n",
       "    <tr>\n",
       "      <th>2</th>\n",
       "      <td>0131</td>\n",
       "      <td>1</td>\n",
       "    </tr>\n",
       "    <tr>\n",
       "      <th>3</th>\n",
       "      <td>0128</td>\n",
       "      <td>1</td>\n",
       "    </tr>\n",
       "    <tr>\n",
       "      <th>4</th>\n",
       "      <td>0083</td>\n",
       "      <td>1</td>\n",
       "    </tr>\n",
       "  </tbody>\n",
       "</table>\n",
       "</div>"
      ],
      "text/plain": [
       "     id  amount_files\n",
       "0  0077             1\n",
       "1  0432             1\n",
       "2  0131             1\n",
       "3  0128             1\n",
       "4  0083             1"
      ]
     },
     "execution_count": 101,
     "metadata": {},
     "output_type": "execute_result"
    }
   ],
   "source": [
    "calc_every_cat_files_num(other_database)"
   ]
  },
  {
   "cell_type": "code",
   "execution_count": 116,
   "id": "667fb08d",
   "metadata": {},
   "outputs": [
    {
     "data": {
      "text/plain": [
       "'ok'"
      ]
     },
     "execution_count": 116,
     "metadata": {},
     "output_type": "execute_result"
    }
   ],
   "source": [
    "save_df_to_path(other_database, intermediate_data_output_dir, 'other_database.csv')"
   ]
  },
  {
   "cell_type": "markdown",
   "id": "7f867a0d",
   "metadata": {},
   "source": [
    "#### Movies dataset"
   ]
  },
  {
   "cell_type": "code",
   "execution_count": 97,
   "id": "6acf841f",
   "metadata": {},
   "outputs": [
    {
     "data": {
      "text/html": [
       "<div>\n",
       "<style scoped>\n",
       "    .dataframe tbody tr th:only-of-type {\n",
       "        vertical-align: middle;\n",
       "    }\n",
       "\n",
       "    .dataframe tbody tr th {\n",
       "        vertical-align: top;\n",
       "    }\n",
       "\n",
       "    .dataframe thead th {\n",
       "        text-align: right;\n",
       "    }\n",
       "</style>\n",
       "<table border=\"1\" class=\"dataframe\">\n",
       "  <thead>\n",
       "    <tr style=\"text-align: right;\">\n",
       "      <th></th>\n",
       "      <th>id</th>\n",
       "      <th>amount_files</th>\n",
       "    </tr>\n",
       "  </thead>\n",
       "  <tbody>\n",
       "    <tr>\n",
       "      <th>0</th>\n",
       "      <td>0454</td>\n",
       "      <td>28</td>\n",
       "    </tr>\n",
       "    <tr>\n",
       "      <th>1</th>\n",
       "      <td>0200</td>\n",
       "      <td>1</td>\n",
       "    </tr>\n",
       "    <tr>\n",
       "      <th>2</th>\n",
       "      <td>0455</td>\n",
       "      <td>10</td>\n",
       "    </tr>\n",
       "    <tr>\n",
       "      <th>3</th>\n",
       "      <td>0455_357</td>\n",
       "      <td>10</td>\n",
       "    </tr>\n",
       "  </tbody>\n",
       "</table>\n",
       "</div>"
      ],
      "text/plain": [
       "         id  amount_files\n",
       "0      0454            28\n",
       "1      0200             1\n",
       "2      0455            10\n",
       "3  0455_357            10"
      ]
     },
     "execution_count": 97,
     "metadata": {},
     "output_type": "execute_result"
    }
   ],
   "source": [
    "calc_every_cat_files_num(movies_database)"
   ]
  },
  {
   "cell_type": "code",
   "execution_count": 117,
   "id": "ff51a110",
   "metadata": {},
   "outputs": [
    {
     "data": {
      "text/plain": [
       "'ok'"
      ]
     },
     "execution_count": 117,
     "metadata": {},
     "output_type": "execute_result"
    }
   ],
   "source": [
    "save_df_to_path(movies_database, intermediate_data_output_dir, 'movies_database.csv')\n",
    "        "
   ]
  },
  {
   "cell_type": "markdown",
   "id": "d96ed482",
   "metadata": {},
   "source": [
    "#### Images dataset"
   ]
  },
  {
   "cell_type": "code",
   "execution_count": 128,
   "id": "2d89cb66",
   "metadata": {},
   "outputs": [],
   "source": [
    "imgs_num = calc_every_cat_files_num(\n",
    "    images_database).sort_values(by=['amount_files'], ascending=False)"
   ]
  },
  {
   "cell_type": "code",
   "execution_count": 131,
   "id": "3502dc1a",
   "metadata": {},
   "outputs": [
    {
     "data": {
      "text/plain": [
       "count    510.000000\n",
       "mean      27.107843\n",
       "std       28.638354\n",
       "min        6.000000\n",
       "25%       14.000000\n",
       "50%       20.000000\n",
       "75%       30.000000\n",
       "max      347.000000\n",
       "Name: amount_files, dtype: float64"
      ]
     },
     "execution_count": 131,
     "metadata": {},
     "output_type": "execute_result"
    }
   ],
   "source": [
    "imgs_num.amount_files.describe()"
   ]
  },
  {
   "cell_type": "code",
   "execution_count": 132,
   "id": "e481c1f6",
   "metadata": {},
   "outputs": [
    {
     "data": {
      "text/plain": [
       "20.0"
      ]
     },
     "execution_count": 132,
     "metadata": {},
     "output_type": "execute_result"
    }
   ],
   "source": [
    "imgs_num.amount_files.median()"
   ]
  },
  {
   "cell_type": "code",
   "execution_count": 141,
   "id": "17d8560b",
   "metadata": {},
   "outputs": [
    {
     "data": {
      "text/html": [
       "<div>\n",
       "<style scoped>\n",
       "    .dataframe tbody tr th:only-of-type {\n",
       "        vertical-align: middle;\n",
       "    }\n",
       "\n",
       "    .dataframe tbody tr th {\n",
       "        vertical-align: top;\n",
       "    }\n",
       "\n",
       "    .dataframe thead th {\n",
       "        text-align: right;\n",
       "    }\n",
       "</style>\n",
       "<table border=\"1\" class=\"dataframe\">\n",
       "  <thead>\n",
       "    <tr style=\"text-align: right;\">\n",
       "      <th></th>\n",
       "      <th>id</th>\n",
       "      <th>amount_files</th>\n",
       "    </tr>\n",
       "  </thead>\n",
       "  <tbody>\n",
       "    <tr>\n",
       "      <th>271</th>\n",
       "      <td>0455_357</td>\n",
       "      <td>347</td>\n",
       "    </tr>\n",
       "    <tr>\n",
       "      <th>270</th>\n",
       "      <td>0455</td>\n",
       "      <td>347</td>\n",
       "    </tr>\n",
       "    <tr>\n",
       "      <th>89</th>\n",
       "      <td>0454</td>\n",
       "      <td>201</td>\n",
       "    </tr>\n",
       "    <tr>\n",
       "      <th>3</th>\n",
       "      <td>0190</td>\n",
       "      <td>144</td>\n",
       "    </tr>\n",
       "    <tr>\n",
       "      <th>362</th>\n",
       "      <td>0160</td>\n",
       "      <td>130</td>\n",
       "    </tr>\n",
       "    <tr>\n",
       "      <th>...</th>\n",
       "      <td>...</td>\n",
       "      <td>...</td>\n",
       "    </tr>\n",
       "    <tr>\n",
       "      <th>129</th>\n",
       "      <td>0111</td>\n",
       "      <td>6</td>\n",
       "    </tr>\n",
       "    <tr>\n",
       "      <th>462</th>\n",
       "      <td>0335</td>\n",
       "      <td>6</td>\n",
       "    </tr>\n",
       "    <tr>\n",
       "      <th>378</th>\n",
       "      <td>0039</td>\n",
       "      <td>6</td>\n",
       "    </tr>\n",
       "    <tr>\n",
       "      <th>442</th>\n",
       "      <td>0038</td>\n",
       "      <td>6</td>\n",
       "    </tr>\n",
       "    <tr>\n",
       "      <th>322</th>\n",
       "      <td>0130</td>\n",
       "      <td>6</td>\n",
       "    </tr>\n",
       "  </tbody>\n",
       "</table>\n",
       "<p>510 rows × 2 columns</p>\n",
       "</div>"
      ],
      "text/plain": [
       "           id  amount_files\n",
       "271  0455_357           347\n",
       "270      0455           347\n",
       "89       0454           201\n",
       "3        0190           144\n",
       "362      0160           130\n",
       "..        ...           ...\n",
       "129      0111             6\n",
       "462      0335             6\n",
       "378      0039             6\n",
       "442      0038             6\n",
       "322      0130             6\n",
       "\n",
       "[510 rows x 2 columns]"
      ]
     },
     "execution_count": 141,
     "metadata": {},
     "output_type": "execute_result"
    }
   ],
   "source": [
    "imgs_num"
   ]
  },
  {
   "cell_type": "code",
   "execution_count": 150,
   "id": "95d5b704",
   "metadata": {},
   "outputs": [
    {
     "data": {
      "text/plain": [
       "array([347])"
      ]
     },
     "execution_count": 150,
     "metadata": {},
     "output_type": "execute_result"
    }
   ],
   "source": [
    " imgs_num.loc[imgs_num.id==cat_id, 'amount_files'].values"
   ]
  },
  {
   "cell_type": "code",
   "execution_count": 142,
   "id": "a6b94fe7",
   "metadata": {},
   "outputs": [
    {
     "data": {
      "text/plain": [
       "271    0455_357\n",
       "Name: id, dtype: object"
      ]
     },
     "execution_count": 142,
     "metadata": {},
     "output_type": "execute_result"
    }
   ],
   "source": [
    "imgs_num.id[imgs_num.id == cat_id]"
   ]
  },
  {
   "cell_type": "code",
   "execution_count": 197,
   "id": "1e2f1e72",
   "metadata": {},
   "outputs": [],
   "source": [
    "max_img_amount = int(imgs_num.amount_files.median())\n",
    "\n",
    "extra_cats_imgs = pd.DataFrame()\n",
    "processed_cats_imgs = pd.DataFrame()\n",
    "\n",
    "for cat_id in imgs_num.id:\n",
    "   \n",
    "    extra_imgs = pd.DataFrame()\n",
    "    cat_imgs = images_database.loc[dataset.cat_id == cat_id, :]\n",
    "    if  imgs_num.loc[imgs_num.id==cat_id, 'amount_files'].values > max_img_amount:\n",
    "            _cat_imgs = cat_imgs.sample(n=max_img_amount, random_state=1) \n",
    "            extra_imgs = cat_imgs.drop(_cat_imgs.index)\n",
    "       \n",
    "            cat_imgs = _cat_imgs\n",
    "            extra_cats_imgs = extra_cats_imgs.append(extra_imgs, ignore_index=True)\n",
    "            \n",
    "            \n",
    "    processed_cats_imgs = processed_cats_imgs.append(cat_imgs, ignore_index=True)\n",
    "        \n",
    "        \n",
    "\n",
    "        \n",
    "    \n",
    "    \n",
    "        "
   ]
  },
  {
   "cell_type": "code",
   "execution_count": 196,
   "id": "ed3cbc11",
   "metadata": {},
   "outputs": [
    {
     "data": {
      "text/plain": [
       "array([[<AxesSubplot:title={'center':'amount_files'}>]], dtype=object)"
      ]
     },
     "execution_count": 196,
     "metadata": {},
     "output_type": "execute_result"
    },
    {
     "data": {
      "image/png": "[encoded data removed]",
      "text/plain": [
       "<Figure size 432x288 with 1 Axes>"
      ]
     },
     "metadata": {
      "needs_background": "light"
     },
     "output_type": "display_data"
    },
    {
     "data": {
      "image/png": "[encoded data removed]",
      "text/plain": [
       "<Figure size 432x288 with 1 Axes>"
      ]
     },
     "metadata": {
      "needs_background": "light"
     },
     "output_type": "display_data"
    }
   ],
   "source": [
    "calc_every_cat_files_num(processed_cats_imgs).hist()\n",
    "calc_every_cat_files_num(extra_cats_imgs).hist()"
   ]
  },
  {
   "cell_type": "code",
   "execution_count": 199,
   "id": "9a4831d6",
   "metadata": {},
   "outputs": [
    {
     "data": {
      "text/plain": [
       "'ok'"
      ]
     },
     "execution_count": 199,
     "metadata": {},
     "output_type": "execute_result"
    }
   ],
   "source": [
    "save_df_to_path(processed_cats_imgs, \n",
    "                processed_data_output_dir, \n",
    "                'cat_individual_database.csv')\n",
    "save_df_to_path(extra_cats_imgs, \n",
    "                processed_data_output_dir, \n",
    "                'cat_individual_database_extra_images.csv')"
   ]
  }
 ],
 "metadata": {
  "kernelspec": {
   "display_name": "Python 3 (ipykernel)",
   "language": "python",
   "name": "python3"
  },
  "language_info": {
   "codemirror_mode": {
    "name": "ipython",
    "version": 3
   },
   "file_extension": ".py",
   "mimetype": "text/x-python",
   "name": "python",
   "nbconvert_exporter": "python",
   "pygments_lexer": "ipython3",
   "version": "3.9.7"
  }
 },
 "nbformat": 4,
 "nbformat_minor": 5
}
