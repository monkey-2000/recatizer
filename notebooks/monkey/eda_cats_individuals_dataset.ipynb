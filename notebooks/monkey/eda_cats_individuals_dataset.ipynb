{
 "cells": [
  {
   "cell_type": "code",
   "execution_count": 3,
   "id": "adcb1c0d",
   "metadata": {},
   "outputs": [],
   "source": [
    "from pathlib import Path\n",
    "import pandas as pd\n",
    "import os\n",
    "import numpy as np\n",
    "from dotenv import find_dotenv, load_dotenv"
   ]
  },
  {
   "cell_type": "markdown",
   "id": "1875e5a4",
   "metadata": {},
   "source": [
    "### dirs and dataset"
   ]
  },
  {
   "cell_type": "code",
   "execution_count": 4,
   "id": "0106eb4b",
   "metadata": {},
   "outputs": [],
   "source": [
    "project_dir = os.path.abspath(os.curdir)\n",
    "project_dir = project_dir.split('recatizer/')[0] + 'recatizer/'\n",
    " "
   ]
  },
  {
   "cell_type": "code",
   "execution_count": 5,
   "id": "c27bf340",
   "metadata": {},
   "outputs": [],
   "source": [
    "raw_data_dir = project_dir + 'data/raw/' # <- The original, immutable data dump.\n",
    "intermediate_data_output_dir = project_dir + \\\n",
    "        'data/interim/cat_individuals_dataset/'# <- Intermediate data that has been transformed.\n",
    "processed_data_output_dir = project_dir + \\\n",
    "        'data/processed/'#  <- The final, canonical data sets for modeling.   "
   ]
  },
  {
   "cell_type": "code",
   "execution_count": 6,
   "id": "58a65de9",
   "metadata": {},
   "outputs": [
    {
     "data": {
      "text/html": [
       "<div>\n",
       "<style scoped>\n",
       "    .dataframe tbody tr th:only-of-type {\n",
       "        vertical-align: middle;\n",
       "    }\n",
       "\n",
       "    .dataframe tbody tr th {\n",
       "        vertical-align: top;\n",
       "    }\n",
       "\n",
       "    .dataframe thead th {\n",
       "        text-align: right;\n",
       "    }\n",
       "</style>\n",
       "<table border=\"1\" class=\"dataframe\">\n",
       "  <thead>\n",
       "    <tr style=\"text-align: right;\">\n",
       "      <th></th>\n",
       "      <th>cat_id</th>\n",
       "      <th>img</th>\n",
       "      <th>path</th>\n",
       "    </tr>\n",
       "  </thead>\n",
       "  <tbody>\n",
       "    <tr>\n",
       "      <th>0</th>\n",
       "      <td>0035</td>\n",
       "      <td>0035_013.JPG</td>\n",
       "      <td>0035/0035_013.JPG</td>\n",
       "    </tr>\n",
       "    <tr>\n",
       "      <th>1</th>\n",
       "      <td>0035</td>\n",
       "      <td>0035_009.JPG</td>\n",
       "      <td>0035/0035_009.JPG</td>\n",
       "    </tr>\n",
       "    <tr>\n",
       "      <th>2</th>\n",
       "      <td>0035</td>\n",
       "      <td>0035_000.JPG</td>\n",
       "      <td>0035/0035_000.JPG</td>\n",
       "    </tr>\n",
       "    <tr>\n",
       "      <th>3</th>\n",
       "      <td>0035</td>\n",
       "      <td>0035_005.JPG</td>\n",
       "      <td>0035/0035_005.JPG</td>\n",
       "    </tr>\n",
       "    <tr>\n",
       "      <th>4</th>\n",
       "      <td>0035</td>\n",
       "      <td>0035_003.JPG</td>\n",
       "      <td>0035/0035_003.JPG</td>\n",
       "    </tr>\n",
       "  </tbody>\n",
       "</table>\n",
       "</div>"
      ],
      "text/plain": [
       "  cat_id           img               path\n",
       "0   0035  0035_013.JPG  0035/0035_013.JPG\n",
       "1   0035  0035_009.JPG  0035/0035_009.JPG\n",
       "2   0035  0035_000.JPG  0035/0035_000.JPG\n",
       "3   0035  0035_005.JPG  0035/0035_005.JPG\n",
       "4   0035  0035_003.JPG  0035/0035_003.JPG"
      ]
     },
     "execution_count": 6,
     "metadata": {},
     "output_type": "execute_result"
    }
   ],
   "source": [
    "dataset = pd.read_csv(raw_data_dir + 'images_database.csv', index_col=0)\n",
    "dataset.head()"
   ]
  },
  {
   "cell_type": "markdown",
   "id": "5205dcf2",
   "metadata": {},
   "source": [
    "#### id 0455_357 and id  0455 the same cat. Fix it manualy"
   ]
  },
  {
   "cell_type": "code",
   "execution_count": 7,
   "id": "45863daa",
   "metadata": {},
   "outputs": [
    {
     "name": "stdout",
     "output_type": "stream",
     "text": [
      "cat with new_id has more images:  True\n"
     ]
    }
   ],
   "source": [
    "new_id = '0455'\n",
    "\n",
    "_dataset = dataset.copy()\n",
    "_dataset.loc[_dataset.cat_id == '0455_357', 'path'] = new_id + '/' + _dataset.path\n",
    "_dataset.loc[_dataset.cat_id == '0455_357', 'cat_id'] = new_id\n",
    "\n",
    "print('cat with new_id has more images: ',\n",
    "    len(_dataset.loc[_dataset.cat_id == new_id,:]) > \\\n",
    "      len(dataset.loc[dataset.cat_id == new_id,:]))\n",
    "\n",
    "dataset = _dataset"
   ]
  },
  {
   "cell_type": "markdown",
   "id": "1c18e4f7",
   "metadata": {},
   "source": [
    "#### amount files about every cats\n",
    "\n"
   ]
  },
  {
   "cell_type": "code",
   "execution_count": 8,
   "id": "8c875b5d",
   "metadata": {},
   "outputs": [],
   "source": [
    "def calc_every_cat_files_num(dataset):\n",
    "    cat_ids = dataset.cat_id.unique()\n",
    "    # every_cat_imgs_num = \n",
    "    every_cat_imgs_num =[]\n",
    "    for cat_id in cat_ids:\n",
    "        every_cat_imgs_num.append(\n",
    "            {'id': cat_id, \n",
    "             'amount_files': len(dataset.cat_id[dataset.cat_id == cat_id])}   \n",
    "        )\n",
    "    return pd.DataFrame(every_cat_imgs_num)\n",
    "\n",
    "\n",
    "every_cat_imgs_num = calc_every_cat_files_num(dataset)"
   ]
  },
  {
   "cell_type": "code",
   "execution_count": 9,
   "id": "3a9ce5ff",
   "metadata": {},
   "outputs": [
    {
     "data": {
      "text/html": [
       "<div>\n",
       "<style scoped>\n",
       "    .dataframe tbody tr th:only-of-type {\n",
       "        vertical-align: middle;\n",
       "    }\n",
       "\n",
       "    .dataframe tbody tr th {\n",
       "        vertical-align: top;\n",
       "    }\n",
       "\n",
       "    .dataframe thead th {\n",
       "        text-align: right;\n",
       "    }\n",
       "</style>\n",
       "<table border=\"1\" class=\"dataframe\">\n",
       "  <thead>\n",
       "    <tr style=\"text-align: right;\">\n",
       "      <th></th>\n",
       "      <th>id</th>\n",
       "      <th>amount_files</th>\n",
       "    </tr>\n",
       "  </thead>\n",
       "  <tbody>\n",
       "    <tr>\n",
       "      <th>270</th>\n",
       "      <td>0455</td>\n",
       "      <td>714</td>\n",
       "    </tr>\n",
       "    <tr>\n",
       "      <th>89</th>\n",
       "      <td>0454</td>\n",
       "      <td>229</td>\n",
       "    </tr>\n",
       "    <tr>\n",
       "      <th>3</th>\n",
       "      <td>0190</td>\n",
       "      <td>144</td>\n",
       "    </tr>\n",
       "    <tr>\n",
       "      <th>361</th>\n",
       "      <td>0160</td>\n",
       "      <td>130</td>\n",
       "    </tr>\n",
       "    <tr>\n",
       "      <th>440</th>\n",
       "      <td>0375</td>\n",
       "      <td>110</td>\n",
       "    </tr>\n",
       "    <tr>\n",
       "      <th>42</th>\n",
       "      <td>0191</td>\n",
       "      <td>101</td>\n",
       "    </tr>\n",
       "    <tr>\n",
       "      <th>489</th>\n",
       "      <td>0474</td>\n",
       "      <td>98</td>\n",
       "    </tr>\n",
       "    <tr>\n",
       "      <th>5</th>\n",
       "      <td>0212</td>\n",
       "      <td>98</td>\n",
       "    </tr>\n",
       "    <tr>\n",
       "      <th>304</th>\n",
       "      <td>0446</td>\n",
       "      <td>95</td>\n",
       "    </tr>\n",
       "    <tr>\n",
       "      <th>239</th>\n",
       "      <td>0046</td>\n",
       "      <td>95</td>\n",
       "    </tr>\n",
       "    <tr>\n",
       "      <th>374</th>\n",
       "      <td>0189</td>\n",
       "      <td>92</td>\n",
       "    </tr>\n",
       "    <tr>\n",
       "      <th>123</th>\n",
       "      <td>0187</td>\n",
       "      <td>91</td>\n",
       "    </tr>\n",
       "    <tr>\n",
       "      <th>421</th>\n",
       "      <td>0502</td>\n",
       "      <td>91</td>\n",
       "    </tr>\n",
       "    <tr>\n",
       "      <th>497</th>\n",
       "      <td>0185</td>\n",
       "      <td>90</td>\n",
       "    </tr>\n",
       "    <tr>\n",
       "      <th>282</th>\n",
       "      <td>0156</td>\n",
       "      <td>89</td>\n",
       "    </tr>\n",
       "    <tr>\n",
       "      <th>443</th>\n",
       "      <td>0259</td>\n",
       "      <td>87</td>\n",
       "    </tr>\n",
       "    <tr>\n",
       "      <th>271</th>\n",
       "      <td>0258</td>\n",
       "      <td>87</td>\n",
       "    </tr>\n",
       "    <tr>\n",
       "      <th>175</th>\n",
       "      <td>0159</td>\n",
       "      <td>87</td>\n",
       "    </tr>\n",
       "    <tr>\n",
       "      <th>48</th>\n",
       "      <td>0496</td>\n",
       "      <td>78</td>\n",
       "    </tr>\n",
       "    <tr>\n",
       "      <th>148</th>\n",
       "      <td>0029</td>\n",
       "      <td>77</td>\n",
       "    </tr>\n",
       "  </tbody>\n",
       "</table>\n",
       "</div>"
      ],
      "text/plain": [
       "       id  amount_files\n",
       "270  0455           714\n",
       "89   0454           229\n",
       "3    0190           144\n",
       "361  0160           130\n",
       "440  0375           110\n",
       "42   0191           101\n",
       "489  0474            98\n",
       "5    0212            98\n",
       "304  0446            95\n",
       "239  0046            95\n",
       "374  0189            92\n",
       "123  0187            91\n",
       "421  0502            91\n",
       "497  0185            90\n",
       "282  0156            89\n",
       "443  0259            87\n",
       "271  0258            87\n",
       "175  0159            87\n",
       "48   0496            78\n",
       "148  0029            77"
      ]
     },
     "execution_count": 9,
     "metadata": {},
     "output_type": "execute_result"
    }
   ],
   "source": [
    "every_cat_imgs_num.sort_values(by=['amount_files'], ascending=False).head(20)"
   ]
  },
  {
   "cell_type": "code",
   "execution_count": 10,
   "id": "fffe98ab",
   "metadata": {},
   "outputs": [
    {
     "data": {
      "text/plain": [
       "array([[<AxesSubplot:title={'center':'amount_files'}>]], dtype=object)"
      ]
     },
     "execution_count": 10,
     "metadata": {},
     "output_type": "execute_result"
    },
    {
     "data": {
      "image/png": "[encoded data removed]",
      "text/plain": [
       "<Figure size 432x288 with 1 Axes>"
      ]
     },
     "metadata": {
      "needs_background": "light"
     },
     "output_type": "display_data"
    }
   ],
   "source": [
    "every_cat_imgs_num.hist(column='amount_files')"
   ]
  },
  {
   "cell_type": "code",
   "execution_count": 11,
   "id": "9eb7cb97",
   "metadata": {},
   "outputs": [
    {
     "name": "stdout",
     "output_type": "stream",
     "text": [
      "file formats: {'mov', 'jpg', 'png', 'heic', 'mp4', 'txt', 'db', 'jpeg'}\n"
     ]
    }
   ],
   "source": [
    "## file formats\n",
    "\n",
    "file_formats = set()\n",
    "for file in dataset.img:\n",
    "    cur_format = file.split('.')[-1].lower()\n",
    "    file_formats.add(cur_format)\n",
    "print('file formats:', file_formats)"
   ]
  },
  {
   "cell_type": "code",
   "execution_count": null,
   "id": "8c3c674d",
   "metadata": {},
   "outputs": [],
   "source": []
  },
  {
   "cell_type": "markdown",
   "id": "317f9de5",
   "metadata": {},
   "source": [
    "### divide into three datasets (imgs, videos, others)"
   ]
  },
  {
   "cell_type": "code",
   "execution_count": 12,
   "id": "cb425360",
   "metadata": {},
   "outputs": [],
   "source": [
    "## add column with format label\n",
    "format_label = []\n",
    "\n",
    "for row_id in dataset.index:\n",
    "    dataset.loc[row_id, 'format'] = dataset.loc[row_id, 'img'].split('.')[-1].lower()"
   ]
  },
  {
   "cell_type": "code",
   "execution_count": 13,
   "id": "fcc26ab0",
   "metadata": {},
   "outputs": [],
   "source": [
    "def return_files_in_format(df, formats):\n",
    "    return df.loc[lambda df: df.format.isin(formats)]\n",
    "\n",
    "\n",
    "video_formats = set(['mp4', 'mov'])\n",
    "image_formats = set(['jpg', 'heic', 'jpeg', 'png'])\n",
    "other_formats = file_formats - video_formats - image_formats\n",
    "\n",
    "images_database = return_files_in_format(dataset, image_formats)\n",
    "movies_database = return_files_in_format(dataset, video_formats)   \n",
    "other_database = return_files_in_format(dataset, other_formats)       "
   ]
  },
  {
   "cell_type": "code",
   "execution_count": 14,
   "id": "91ae808e",
   "metadata": {},
   "outputs": [],
   "source": [
    "def save_df_to_path(df, path, name):\n",
    "    \"\"\"save dataset in path\"\"\"\n",
    "    try:\n",
    "        os.mkdir(path)\n",
    "    except FileExistsError:\n",
    "        pass\n",
    "    \n",
    "    df.to_csv(path + name)\n",
    "    return 'ok'"
   ]
  },
  {
   "cell_type": "markdown",
   "id": "2398a3c0",
   "metadata": {},
   "source": [
    "#### Others dataset"
   ]
  },
  {
   "cell_type": "code",
   "execution_count": 15,
   "id": "57960504",
   "metadata": {},
   "outputs": [
    {
     "data": {
      "text/html": [
       "<div>\n",
       "<style scoped>\n",
       "    .dataframe tbody tr th:only-of-type {\n",
       "        vertical-align: middle;\n",
       "    }\n",
       "\n",
       "    .dataframe tbody tr th {\n",
       "        vertical-align: top;\n",
       "    }\n",
       "\n",
       "    .dataframe thead th {\n",
       "        text-align: right;\n",
       "    }\n",
       "</style>\n",
       "<table border=\"1\" class=\"dataframe\">\n",
       "  <thead>\n",
       "    <tr style=\"text-align: right;\">\n",
       "      <th></th>\n",
       "      <th>id</th>\n",
       "      <th>amount_files</th>\n",
       "    </tr>\n",
       "  </thead>\n",
       "  <tbody>\n",
       "    <tr>\n",
       "      <th>0</th>\n",
       "      <td>0077</td>\n",
       "      <td>1</td>\n",
       "    </tr>\n",
       "    <tr>\n",
       "      <th>1</th>\n",
       "      <td>0432</td>\n",
       "      <td>1</td>\n",
       "    </tr>\n",
       "    <tr>\n",
       "      <th>2</th>\n",
       "      <td>0131</td>\n",
       "      <td>1</td>\n",
       "    </tr>\n",
       "    <tr>\n",
       "      <th>3</th>\n",
       "      <td>0128</td>\n",
       "      <td>1</td>\n",
       "    </tr>\n",
       "    <tr>\n",
       "      <th>4</th>\n",
       "      <td>0083</td>\n",
       "      <td>1</td>\n",
       "    </tr>\n",
       "  </tbody>\n",
       "</table>\n",
       "</div>"
      ],
      "text/plain": [
       "     id  amount_files\n",
       "0  0077             1\n",
       "1  0432             1\n",
       "2  0131             1\n",
       "3  0128             1\n",
       "4  0083             1"
      ]
     },
     "execution_count": 15,
     "metadata": {},
     "output_type": "execute_result"
    }
   ],
   "source": [
    "calc_every_cat_files_num(other_database)"
   ]
  },
  {
   "cell_type": "code",
   "execution_count": 16,
   "id": "667fb08d",
   "metadata": {},
   "outputs": [
    {
     "data": {
      "text/plain": [
       "'ok'"
      ]
     },
     "execution_count": 16,
     "metadata": {},
     "output_type": "execute_result"
    }
   ],
   "source": [
    "save_df_to_path(other_database, intermediate_data_output_dir, 'other_database.csv')"
   ]
  },
  {
   "cell_type": "markdown",
   "id": "7f867a0d",
   "metadata": {},
   "source": [
    "#### Movies dataset"
   ]
  },
  {
   "cell_type": "code",
   "execution_count": 17,
   "id": "6acf841f",
   "metadata": {},
   "outputs": [
    {
     "data": {
      "text/html": [
       "<div>\n",
       "<style scoped>\n",
       "    .dataframe tbody tr th:only-of-type {\n",
       "        vertical-align: middle;\n",
       "    }\n",
       "\n",
       "    .dataframe tbody tr th {\n",
       "        vertical-align: top;\n",
       "    }\n",
       "\n",
       "    .dataframe thead th {\n",
       "        text-align: right;\n",
       "    }\n",
       "</style>\n",
       "<table border=\"1\" class=\"dataframe\">\n",
       "  <thead>\n",
       "    <tr style=\"text-align: right;\">\n",
       "      <th></th>\n",
       "      <th>id</th>\n",
       "      <th>amount_files</th>\n",
       "    </tr>\n",
       "  </thead>\n",
       "  <tbody>\n",
       "    <tr>\n",
       "      <th>0</th>\n",
       "      <td>0454</td>\n",
       "      <td>28</td>\n",
       "    </tr>\n",
       "    <tr>\n",
       "      <th>1</th>\n",
       "      <td>0200</td>\n",
       "      <td>1</td>\n",
       "    </tr>\n",
       "    <tr>\n",
       "      <th>2</th>\n",
       "      <td>0455</td>\n",
       "      <td>20</td>\n",
       "    </tr>\n",
       "  </tbody>\n",
       "</table>\n",
       "</div>"
      ],
      "text/plain": [
       "     id  amount_files\n",
       "0  0454            28\n",
       "1  0200             1\n",
       "2  0455            20"
      ]
     },
     "execution_count": 17,
     "metadata": {},
     "output_type": "execute_result"
    }
   ],
   "source": [
    "calc_every_cat_files_num(movies_database)"
   ]
  },
  {
   "cell_type": "code",
   "execution_count": 18,
   "id": "ff51a110",
   "metadata": {},
   "outputs": [
    {
     "data": {
      "text/plain": [
       "'ok'"
      ]
     },
     "execution_count": 18,
     "metadata": {},
     "output_type": "execute_result"
    }
   ],
   "source": [
    "save_df_to_path(movies_database, intermediate_data_output_dir, 'movies_database.csv')\n",
    "        "
   ]
  },
  {
   "cell_type": "markdown",
   "id": "d96ed482",
   "metadata": {},
   "source": [
    "#### Images dataset"
   ]
  },
  {
   "cell_type": "code",
   "execution_count": 19,
   "id": "2d89cb66",
   "metadata": {},
   "outputs": [],
   "source": [
    "imgs_num = calc_every_cat_files_num(\n",
    "    images_database).sort_values(by=['amount_files'], ascending=False)"
   ]
  },
  {
   "cell_type": "code",
   "execution_count": 20,
   "id": "3502dc1a",
   "metadata": {},
   "outputs": [
    {
     "data": {
      "text/plain": [
       "count    509.000000\n",
       "mean      27.161100\n",
       "std       35.977377\n",
       "min        6.000000\n",
       "25%       14.000000\n",
       "50%       20.000000\n",
       "75%       30.000000\n",
       "max      694.000000\n",
       "Name: amount_files, dtype: float64"
      ]
     },
     "execution_count": 20,
     "metadata": {},
     "output_type": "execute_result"
    }
   ],
   "source": [
    "imgs_num.amount_files.describe()"
   ]
  },
  {
   "cell_type": "code",
   "execution_count": 21,
   "id": "e481c1f6",
   "metadata": {},
   "outputs": [
    {
     "data": {
      "text/plain": [
       "20.0"
      ]
     },
     "execution_count": 21,
     "metadata": {},
     "output_type": "execute_result"
    }
   ],
   "source": [
    "imgs_num.amount_files.median()"
   ]
  },
  {
   "cell_type": "code",
   "execution_count": 22,
   "id": "17d8560b",
   "metadata": {},
   "outputs": [
    {
     "data": {
      "text/html": [
       "<div>\n",
       "<style scoped>\n",
       "    .dataframe tbody tr th:only-of-type {\n",
       "        vertical-align: middle;\n",
       "    }\n",
       "\n",
       "    .dataframe tbody tr th {\n",
       "        vertical-align: top;\n",
       "    }\n",
       "\n",
       "    .dataframe thead th {\n",
       "        text-align: right;\n",
       "    }\n",
       "</style>\n",
       "<table border=\"1\" class=\"dataframe\">\n",
       "  <thead>\n",
       "    <tr style=\"text-align: right;\">\n",
       "      <th></th>\n",
       "      <th>id</th>\n",
       "      <th>amount_files</th>\n",
       "    </tr>\n",
       "  </thead>\n",
       "  <tbody>\n",
       "    <tr>\n",
       "      <th>270</th>\n",
       "      <td>0455</td>\n",
       "      <td>694</td>\n",
       "    </tr>\n",
       "    <tr>\n",
       "      <th>89</th>\n",
       "      <td>0454</td>\n",
       "      <td>201</td>\n",
       "    </tr>\n",
       "    <tr>\n",
       "      <th>3</th>\n",
       "      <td>0190</td>\n",
       "      <td>144</td>\n",
       "    </tr>\n",
       "    <tr>\n",
       "      <th>361</th>\n",
       "      <td>0160</td>\n",
       "      <td>130</td>\n",
       "    </tr>\n",
       "    <tr>\n",
       "      <th>440</th>\n",
       "      <td>0375</td>\n",
       "      <td>110</td>\n",
       "    </tr>\n",
       "    <tr>\n",
       "      <th>...</th>\n",
       "      <td>...</td>\n",
       "      <td>...</td>\n",
       "    </tr>\n",
       "    <tr>\n",
       "      <th>377</th>\n",
       "      <td>0039</td>\n",
       "      <td>6</td>\n",
       "    </tr>\n",
       "    <tr>\n",
       "      <th>129</th>\n",
       "      <td>0111</td>\n",
       "      <td>6</td>\n",
       "    </tr>\n",
       "    <tr>\n",
       "      <th>441</th>\n",
       "      <td>0038</td>\n",
       "      <td>6</td>\n",
       "    </tr>\n",
       "    <tr>\n",
       "      <th>321</th>\n",
       "      <td>0130</td>\n",
       "      <td>6</td>\n",
       "    </tr>\n",
       "    <tr>\n",
       "      <th>461</th>\n",
       "      <td>0335</td>\n",
       "      <td>6</td>\n",
       "    </tr>\n",
       "  </tbody>\n",
       "</table>\n",
       "<p>509 rows × 2 columns</p>\n",
       "</div>"
      ],
      "text/plain": [
       "       id  amount_files\n",
       "270  0455           694\n",
       "89   0454           201\n",
       "3    0190           144\n",
       "361  0160           130\n",
       "440  0375           110\n",
       "..    ...           ...\n",
       "377  0039             6\n",
       "129  0111             6\n",
       "441  0038             6\n",
       "321  0130             6\n",
       "461  0335             6\n",
       "\n",
       "[509 rows x 2 columns]"
      ]
     },
     "execution_count": 22,
     "metadata": {},
     "output_type": "execute_result"
    }
   ],
   "source": [
    "imgs_num"
   ]
  },
  {
   "cell_type": "code",
   "execution_count": 23,
   "id": "1e2f1e72",
   "metadata": {},
   "outputs": [],
   "source": [
    "max_img_amount = int(imgs_num.amount_files.median())\n",
    "\n",
    "extra_cats_imgs = pd.DataFrame()\n",
    "processed_cats_imgs = pd.DataFrame()\n",
    "\n",
    "for cat_id in imgs_num.id:\n",
    "   \n",
    "    extra_imgs = pd.DataFrame()\n",
    "    cat_imgs = images_database.loc[dataset.cat_id == cat_id, :]\n",
    "    if  imgs_num.loc[imgs_num.id==cat_id, 'amount_files'].values > max_img_amount:\n",
    "            _cat_imgs = cat_imgs.sample(n=max_img_amount, random_state=1) \n",
    "            extra_imgs = cat_imgs.drop(_cat_imgs.index)\n",
    "       \n",
    "            cat_imgs = _cat_imgs\n",
    "            extra_cats_imgs = extra_cats_imgs.append(extra_imgs, ignore_index=True)\n",
    "            \n",
    "            \n",
    "    processed_cats_imgs = processed_cats_imgs.append(cat_imgs, ignore_index=True)\n",
    "        \n",
    "        \n",
    "\n",
    "        \n",
    "    \n",
    "    \n",
    "        "
   ]
  },
  {
   "cell_type": "code",
   "execution_count": 24,
   "id": "ed3cbc11",
   "metadata": {},
   "outputs": [
    {
     "data": {
      "text/plain": [
       "array([[<AxesSubplot:title={'center':'amount_files'}>]], dtype=object)"
      ]
     },
     "execution_count": 24,
     "metadata": {},
     "output_type": "execute_result"
    },
    {
     "data": {
      "image/png": "[encoded data removed]",
      "text/plain": [
       "<Figure size 432x288 with 1 Axes>"
      ]
     },
     "metadata": {
      "needs_background": "light"
     },
     "output_type": "display_data"
    },
    {
     "data": {
      "image/png": "[encoded data removed]",
      "text/plain": [
       "<Figure size 432x288 with 1 Axes>"
      ]
     },
     "metadata": {
      "needs_background": "light"
     },
     "output_type": "display_data"
    }
   ],
   "source": [
    "calc_every_cat_files_num(processed_cats_imgs).hist()\n",
    "calc_every_cat_files_num(extra_cats_imgs).hist()"
   ]
  },
  {
   "cell_type": "code",
   "execution_count": 25,
   "id": "9a4831d6",
   "metadata": {},
   "outputs": [
    {
     "data": {
      "text/plain": [
       "'ok'"
      ]
     },
     "execution_count": 25,
     "metadata": {},
     "output_type": "execute_result"
    }
   ],
   "source": [
    "save_df_to_path(processed_cats_imgs, \n",
    "                processed_data_output_dir, \n",
    "                'cat_individual_database.csv')\n",
    "save_df_to_path(extra_cats_imgs, \n",
    "                processed_data_output_dir, \n",
    "                'cat_individual_database_extra_images.csv')"
   ]
  },
  {
   "cell_type": "code",
   "execution_count": 26,
   "id": "1d5fc338",
   "metadata": {},
   "outputs": [
    {
     "data": {
      "text/html": [
       "<div>\n",
       "<style scoped>\n",
       "    .dataframe tbody tr th:only-of-type {\n",
       "        vertical-align: middle;\n",
       "    }\n",
       "\n",
       "    .dataframe tbody tr th {\n",
       "        vertical-align: top;\n",
       "    }\n",
       "\n",
       "    .dataframe thead th {\n",
       "        text-align: right;\n",
       "    }\n",
       "</style>\n",
       "<table border=\"1\" class=\"dataframe\">\n",
       "  <thead>\n",
       "    <tr style=\"text-align: right;\">\n",
       "      <th></th>\n",
       "      <th>cat_id</th>\n",
       "      <th>img</th>\n",
       "      <th>path</th>\n",
       "      <th>format</th>\n",
       "    </tr>\n",
       "  </thead>\n",
       "  <tbody>\n",
       "    <tr>\n",
       "      <th>0</th>\n",
       "      <td>0455</td>\n",
       "      <td>IMG_6935.jpg</td>\n",
       "      <td>0455/0455_357/IMG_6935.jpg</td>\n",
       "      <td>jpg</td>\n",
       "    </tr>\n",
       "    <tr>\n",
       "      <th>1</th>\n",
       "      <td>0455</td>\n",
       "      <td>0455_111.heic</td>\n",
       "      <td>0455/0455_111.heic</td>\n",
       "      <td>heic</td>\n",
       "    </tr>\n",
       "    <tr>\n",
       "      <th>2</th>\n",
       "      <td>0455</td>\n",
       "      <td>IMG_7724.heic</td>\n",
       "      <td>0455/0455_357/IMG_7724.heic</td>\n",
       "      <td>heic</td>\n",
       "    </tr>\n",
       "    <tr>\n",
       "      <th>3</th>\n",
       "      <td>0455</td>\n",
       "      <td>IMG_9541.heic</td>\n",
       "      <td>0455/0455_357/IMG_9541.heic</td>\n",
       "      <td>heic</td>\n",
       "    </tr>\n",
       "    <tr>\n",
       "      <th>4</th>\n",
       "      <td>0455</td>\n",
       "      <td>0455_164.heic</td>\n",
       "      <td>0455/0455_164.heic</td>\n",
       "      <td>heic</td>\n",
       "    </tr>\n",
       "    <tr>\n",
       "      <th>...</th>\n",
       "      <td>...</td>\n",
       "      <td>...</td>\n",
       "      <td>...</td>\n",
       "      <td>...</td>\n",
       "    </tr>\n",
       "    <tr>\n",
       "      <th>8660</th>\n",
       "      <td>0335</td>\n",
       "      <td>0335_003.jpg</td>\n",
       "      <td>0335/0335_003.jpg</td>\n",
       "      <td>jpg</td>\n",
       "    </tr>\n",
       "    <tr>\n",
       "      <th>8661</th>\n",
       "      <td>0335</td>\n",
       "      <td>0335_005.jpg</td>\n",
       "      <td>0335/0335_005.jpg</td>\n",
       "      <td>jpg</td>\n",
       "    </tr>\n",
       "    <tr>\n",
       "      <th>8662</th>\n",
       "      <td>0335</td>\n",
       "      <td>0335_004.jpg</td>\n",
       "      <td>0335/0335_004.jpg</td>\n",
       "      <td>jpg</td>\n",
       "    </tr>\n",
       "    <tr>\n",
       "      <th>8663</th>\n",
       "      <td>0335</td>\n",
       "      <td>0335_002.jpg</td>\n",
       "      <td>0335/0335_002.jpg</td>\n",
       "      <td>jpg</td>\n",
       "    </tr>\n",
       "    <tr>\n",
       "      <th>8664</th>\n",
       "      <td>0335</td>\n",
       "      <td>0335_000.jpg</td>\n",
       "      <td>0335/0335_000.jpg</td>\n",
       "      <td>jpg</td>\n",
       "    </tr>\n",
       "  </tbody>\n",
       "</table>\n",
       "<p>8665 rows × 4 columns</p>\n",
       "</div>"
      ],
      "text/plain": [
       "     cat_id            img                         path format\n",
       "0      0455   IMG_6935.jpg   0455/0455_357/IMG_6935.jpg    jpg\n",
       "1      0455  0455_111.heic           0455/0455_111.heic   heic\n",
       "2      0455  IMG_7724.heic  0455/0455_357/IMG_7724.heic   heic\n",
       "3      0455  IMG_9541.heic  0455/0455_357/IMG_9541.heic   heic\n",
       "4      0455  0455_164.heic           0455/0455_164.heic   heic\n",
       "...     ...            ...                          ...    ...\n",
       "8660   0335   0335_003.jpg            0335/0335_003.jpg    jpg\n",
       "8661   0335   0335_005.jpg            0335/0335_005.jpg    jpg\n",
       "8662   0335   0335_004.jpg            0335/0335_004.jpg    jpg\n",
       "8663   0335   0335_002.jpg            0335/0335_002.jpg    jpg\n",
       "8664   0335   0335_000.jpg            0335/0335_000.jpg    jpg\n",
       "\n",
       "[8665 rows x 4 columns]"
      ]
     },
     "execution_count": 26,
     "metadata": {},
     "output_type": "execute_result"
    }
   ],
   "source": [
    "processed_cats_imgs"
   ]
  },
  {
   "cell_type": "code",
   "execution_count": 27,
   "id": "274b4519",
   "metadata": {},
   "outputs": [
    {
     "data": {
      "text/html": [
       "<div>\n",
       "<style scoped>\n",
       "    .dataframe tbody tr th:only-of-type {\n",
       "        vertical-align: middle;\n",
       "    }\n",
       "\n",
       "    .dataframe tbody tr th {\n",
       "        vertical-align: top;\n",
       "    }\n",
       "\n",
       "    .dataframe thead th {\n",
       "        text-align: right;\n",
       "    }\n",
       "</style>\n",
       "<table border=\"1\" class=\"dataframe\">\n",
       "  <thead>\n",
       "    <tr style=\"text-align: right;\">\n",
       "      <th></th>\n",
       "      <th>cat_id</th>\n",
       "      <th>img</th>\n",
       "      <th>path</th>\n",
       "      <th>format</th>\n",
       "    </tr>\n",
       "  </thead>\n",
       "  <tbody>\n",
       "    <tr>\n",
       "      <th>0</th>\n",
       "      <td>0455</td>\n",
       "      <td>IMG_6935.jpg</td>\n",
       "      <td>0455/0455_357/IMG_6935.jpg</td>\n",
       "      <td>jpg</td>\n",
       "    </tr>\n",
       "    <tr>\n",
       "      <th>1</th>\n",
       "      <td>0455</td>\n",
       "      <td>0455_111.heic</td>\n",
       "      <td>0455/0455_111.heic</td>\n",
       "      <td>heic</td>\n",
       "    </tr>\n",
       "    <tr>\n",
       "      <th>2</th>\n",
       "      <td>0455</td>\n",
       "      <td>IMG_7724.heic</td>\n",
       "      <td>0455/0455_357/IMG_7724.heic</td>\n",
       "      <td>heic</td>\n",
       "    </tr>\n",
       "    <tr>\n",
       "      <th>3</th>\n",
       "      <td>0455</td>\n",
       "      <td>IMG_9541.heic</td>\n",
       "      <td>0455/0455_357/IMG_9541.heic</td>\n",
       "      <td>heic</td>\n",
       "    </tr>\n",
       "    <tr>\n",
       "      <th>4</th>\n",
       "      <td>0455</td>\n",
       "      <td>0455_164.heic</td>\n",
       "      <td>0455/0455_164.heic</td>\n",
       "      <td>heic</td>\n",
       "    </tr>\n",
       "    <tr>\n",
       "      <th>5</th>\n",
       "      <td>0455</td>\n",
       "      <td>0455_238.heic</td>\n",
       "      <td>0455/0455_238.heic</td>\n",
       "      <td>heic</td>\n",
       "    </tr>\n",
       "    <tr>\n",
       "      <th>6</th>\n",
       "      <td>0455</td>\n",
       "      <td>IMG_2922.jpg</td>\n",
       "      <td>0455/0455_357/IMG_2922.jpg</td>\n",
       "      <td>jpg</td>\n",
       "    </tr>\n",
       "    <tr>\n",
       "      <th>7</th>\n",
       "      <td>0455</td>\n",
       "      <td>0455_286.heic</td>\n",
       "      <td>0455/0455_286.heic</td>\n",
       "      <td>heic</td>\n",
       "    </tr>\n",
       "    <tr>\n",
       "      <th>8</th>\n",
       "      <td>0455</td>\n",
       "      <td>0455_258.heic</td>\n",
       "      <td>0455/0455_258.heic</td>\n",
       "      <td>heic</td>\n",
       "    </tr>\n",
       "    <tr>\n",
       "      <th>9</th>\n",
       "      <td>0455</td>\n",
       "      <td>IMG_1258.jpg</td>\n",
       "      <td>0455/0455_357/IMG_1258.jpg</td>\n",
       "      <td>jpg</td>\n",
       "    </tr>\n",
       "    <tr>\n",
       "      <th>10</th>\n",
       "      <td>0455</td>\n",
       "      <td>IMG_0680.jpg</td>\n",
       "      <td>0455/0455_357/IMG_0680.jpg</td>\n",
       "      <td>jpg</td>\n",
       "    </tr>\n",
       "    <tr>\n",
       "      <th>11</th>\n",
       "      <td>0455</td>\n",
       "      <td>IMG_1581.heic</td>\n",
       "      <td>0455/0455_357/IMG_1581.heic</td>\n",
       "      <td>heic</td>\n",
       "    </tr>\n",
       "    <tr>\n",
       "      <th>12</th>\n",
       "      <td>0455</td>\n",
       "      <td>0455_002.jpg</td>\n",
       "      <td>0455/0455_002.jpg</td>\n",
       "      <td>jpg</td>\n",
       "    </tr>\n",
       "    <tr>\n",
       "      <th>13</th>\n",
       "      <td>0455</td>\n",
       "      <td>IMG_8863.heic</td>\n",
       "      <td>0455/0455_357/IMG_8863.heic</td>\n",
       "      <td>heic</td>\n",
       "    </tr>\n",
       "    <tr>\n",
       "      <th>14</th>\n",
       "      <td>0455</td>\n",
       "      <td>IMG_9586.heic</td>\n",
       "      <td>0455/0455_357/IMG_9586.heic</td>\n",
       "      <td>heic</td>\n",
       "    </tr>\n",
       "    <tr>\n",
       "      <th>15</th>\n",
       "      <td>0455</td>\n",
       "      <td>IMG_9581.heic</td>\n",
       "      <td>0455/0455_357/IMG_9581.heic</td>\n",
       "      <td>heic</td>\n",
       "    </tr>\n",
       "    <tr>\n",
       "      <th>16</th>\n",
       "      <td>0455</td>\n",
       "      <td>0455_053.jpg</td>\n",
       "      <td>0455/0455_053.jpg</td>\n",
       "      <td>jpg</td>\n",
       "    </tr>\n",
       "    <tr>\n",
       "      <th>17</th>\n",
       "      <td>0455</td>\n",
       "      <td>IMG_8536.heic</td>\n",
       "      <td>0455/0455_357/IMG_8536.heic</td>\n",
       "      <td>heic</td>\n",
       "    </tr>\n",
       "    <tr>\n",
       "      <th>18</th>\n",
       "      <td>0455</td>\n",
       "      <td>0455_229.heic</td>\n",
       "      <td>0455/0455_229.heic</td>\n",
       "      <td>heic</td>\n",
       "    </tr>\n",
       "    <tr>\n",
       "      <th>19</th>\n",
       "      <td>0455</td>\n",
       "      <td>0455_141.heic</td>\n",
       "      <td>0455/0455_141.heic</td>\n",
       "      <td>heic</td>\n",
       "    </tr>\n",
       "  </tbody>\n",
       "</table>\n",
       "</div>"
      ],
      "text/plain": [
       "   cat_id            img                         path format\n",
       "0    0455   IMG_6935.jpg   0455/0455_357/IMG_6935.jpg    jpg\n",
       "1    0455  0455_111.heic           0455/0455_111.heic   heic\n",
       "2    0455  IMG_7724.heic  0455/0455_357/IMG_7724.heic   heic\n",
       "3    0455  IMG_9541.heic  0455/0455_357/IMG_9541.heic   heic\n",
       "4    0455  0455_164.heic           0455/0455_164.heic   heic\n",
       "5    0455  0455_238.heic           0455/0455_238.heic   heic\n",
       "6    0455   IMG_2922.jpg   0455/0455_357/IMG_2922.jpg    jpg\n",
       "7    0455  0455_286.heic           0455/0455_286.heic   heic\n",
       "8    0455  0455_258.heic           0455/0455_258.heic   heic\n",
       "9    0455   IMG_1258.jpg   0455/0455_357/IMG_1258.jpg    jpg\n",
       "10   0455   IMG_0680.jpg   0455/0455_357/IMG_0680.jpg    jpg\n",
       "11   0455  IMG_1581.heic  0455/0455_357/IMG_1581.heic   heic\n",
       "12   0455   0455_002.jpg            0455/0455_002.jpg    jpg\n",
       "13   0455  IMG_8863.heic  0455/0455_357/IMG_8863.heic   heic\n",
       "14   0455  IMG_9586.heic  0455/0455_357/IMG_9586.heic   heic\n",
       "15   0455  IMG_9581.heic  0455/0455_357/IMG_9581.heic   heic\n",
       "16   0455   0455_053.jpg            0455/0455_053.jpg    jpg\n",
       "17   0455  IMG_8536.heic  0455/0455_357/IMG_8536.heic   heic\n",
       "18   0455  0455_229.heic           0455/0455_229.heic   heic\n",
       "19   0455  0455_141.heic           0455/0455_141.heic   heic"
      ]
     },
     "execution_count": 27,
     "metadata": {},
     "output_type": "execute_result"
    }
   ],
   "source": [
    "processed_cats_imgs[processed_cats_imgs.cat_id == '0455']"
   ]
  },
  {
   "cell_type": "markdown",
   "id": "709ac825",
   "metadata": {},
   "source": [
    "#### path validation"
   ]
  },
  {
   "cell_type": "code",
   "execution_count": 28,
   "id": "a736b40e",
   "metadata": {},
   "outputs": [],
   "source": [
    "# dataset_dir = 'WRITE YOUR PATH/archive/cat_individuals_dataset/'\n",
    "\n",
    "# for image_path in processed_cats_imgs.path:\n",
    "#     status = os.path.exists(dataset_dir + image_path)\n",
    "#     if not status:\n",
    "#         print('incorrect: ', image_path)"
   ]
  },
  {
   "cell_type": "markdown",
   "id": "fb951de8",
   "metadata": {},
   "source": [
    "### test, validate and train samples"
   ]
  },
  {
   "cell_type": "code",
   "execution_count": 41,
   "id": "cf6ba8c3",
   "metadata": {},
   "outputs": [],
   "source": [
    "cat_id = processed_cats_imgs.cat_id.unique()\n",
    "cats_amount = len(cat_id)"
   ]
  },
  {
   "cell_type": "code",
   "execution_count": 47,
   "id": "78bfc8d3",
   "metadata": {},
   "outputs": [
    {
     "name": "stdout",
     "output_type": "stream",
     "text": [
      "train cats 305\n",
      "test cats 136\n",
      "val cats 68\n"
     ]
    }
   ],
   "source": [
    "samples_amount = {}\n",
    "samples_amount['train']= round(cats_amount * 0.6)\n",
    "samples_amount['test'] =  round((cats_amount - train_cats_amount) * 2/3)\n",
    "samples_amount['val'] = cats_amount - samples_amount['train'] - samples_amount['test'] \n",
    "\n",
    "print('train cats', samples_amount['train'])\n",
    "print('test cats', samples_amount['test'])\n",
    "print('val cats', samples_amount['val'] )"
   ]
  },
  {
   "cell_type": "code",
   "execution_count": 51,
   "id": "285a024b",
   "metadata": {},
   "outputs": [
    {
     "data": {
      "text/plain": [
       "0      0455\n",
       "1      0454\n",
       "2      0190\n",
       "3      0160\n",
       "4      0375\n",
       "       ... \n",
       "504    0039\n",
       "505    0111\n",
       "506    0038\n",
       "507    0130\n",
       "508    0335\n",
       "Length: 509, dtype: object"
      ]
     },
     "execution_count": 51,
     "metadata": {},
     "output_type": "execute_result"
    }
   ],
   "source": [
    "_cat_id"
   ]
  },
  {
   "cell_type": "code",
   "execution_count": 66,
   "id": "525ee5b5",
   "metadata": {},
   "outputs": [
    {
     "name": "stdout",
     "output_type": "stream",
     "text": [
      "509\n",
      "204\n",
      "68\n"
     ]
    }
   ],
   "source": [
    "_cat_id = pd.Series(cat_id.copy())\n",
    "samples = {}\n",
    "\n",
    "for sample_name in samples_amount:\n",
    "    print(len(_cat_id))\n",
    "    sample_id = _cat_id.sample(n=samples_amount[sample_name], random_state=1)\n",
    "    _cat_id = _cat_id.drop(sample_id.index)\n",
    "    sample = pd.DataFrame()\n",
    "    for cat in _cat_id:\n",
    "        sample = sample.append(processed_cats_imgs[processed_cats_imgs.cat_id == cat], \n",
    "                      ignore_index=True)\n",
    "    samples[sample_name] = sample\n",
    " "
   ]
  },
  {
   "cell_type": "code",
   "execution_count": 68,
   "id": "eae03918",
   "metadata": {},
   "outputs": [],
   "source": [
    "for sample_name in samples:\n",
    "    save_df_to_path(samples[sample_name], \n",
    "                processed_data_output_dir, \n",
    "                f'{sample_name}.csv')"
   ]
  },
  {
   "cell_type": "code",
   "execution_count": 67,
   "id": "d89c212c",
   "metadata": {},
   "outputs": [
    {
     "data": {
      "text/plain": [
       "{'train':      cat_id            img                path format\n",
       " 0      0454  0454_149.heic  0454/0454_149.heic   heic\n",
       " 1      0454  0454_040.heic  0454/0454_040.heic   heic\n",
       " 2      0454  0454_038.heic  0454/0454_038.heic   heic\n",
       " 3      0454  0454_051.heic  0454/0454_051.heic   heic\n",
       " 4      0454  0454_041.heic  0454/0454_041.heic   heic\n",
       " ...     ...            ...                 ...    ...\n",
       " 3529   0219   0219_004.JPG   0219/0219_004.JPG    jpg\n",
       " 3530   0219   0219_002.JPG   0219/0219_002.JPG    jpg\n",
       " 3531   0219   0219_000.JPG   0219/0219_000.JPG    jpg\n",
       " 3532   0219   0219_005.JPG   0219/0219_005.JPG    jpg\n",
       " 3533   0219   0219_006.JPG   0219/0219_006.JPG    jpg\n",
       " \n",
       " [3534 rows x 4 columns],\n",
       " 'test':      cat_id           img               path format\n",
       " 0      0190  0190_036.JPG  0190/0190_036.JPG    jpg\n",
       " 1      0190  0190_131.JPG  0190/0190_131.JPG    jpg\n",
       " 2      0190  0190_065.JPG  0190/0190_065.JPG    jpg\n",
       " 3      0190  0190_113.JPG  0190/0190_113.JPG    jpg\n",
       " 4      0190  0190_097.JPG  0190/0190_097.JPG    jpg\n",
       " ...     ...           ...                ...    ...\n",
       " 1193   0356  0356_004.jpg  0356/0356_004.jpg    jpg\n",
       " 1194   0356  0356_006.jpg  0356/0356_006.jpg    jpg\n",
       " 1195   0356  0356_002.jpg  0356/0356_002.jpg    jpg\n",
       " 1196   0356  0356_007.jpg  0356/0356_007.jpg    jpg\n",
       " 1197   0356  0356_005.jpg  0356/0356_005.jpg    jpg\n",
       " \n",
       " [1198 rows x 4 columns],\n",
       " 'val': Empty DataFrame\n",
       " Columns: []\n",
       " Index: []}"
      ]
     },
     "execution_count": 67,
     "metadata": {},
     "output_type": "execute_result"
    }
   ],
   "source": [
    "samples"
   ]
  },
  {
   "cell_type": "code",
   "execution_count": 61,
   "id": "1b08e9d4",
   "metadata": {},
   "outputs": [
    {
     "ename": "ValueError",
     "evalue": "('Lengths must match to compare', (8665,), (305,))",
     "output_type": "error",
     "traceback": [
      "\u001b[0;31m---------------------------------------------------------------------------\u001b[0m",
      "\u001b[0;31mValueError\u001b[0m                                Traceback (most recent call last)",
      "Input \u001b[0;32mIn [61]\u001b[0m, in \u001b[0;36m<module>\u001b[0;34m\u001b[0m\n\u001b[0;32m----> 1\u001b[0m \u001b[43mprocessed_cats_imgs\u001b[49m\u001b[38;5;241;43m.\u001b[39;49m\u001b[43mcat_id\u001b[49m\u001b[43m \u001b[49m\u001b[38;5;241;43m==\u001b[39;49m\u001b[43m \u001b[49m\u001b[43msample_id\u001b[49m\u001b[38;5;241;43m.\u001b[39;49m\u001b[43mvalues\u001b[49m\n",
      "File \u001b[0;32m~/anaconda3/lib/python3.9/site-packages/pandas/core/ops/common.py:69\u001b[0m, in \u001b[0;36m_unpack_zerodim_and_defer.<locals>.new_method\u001b[0;34m(self, other)\u001b[0m\n\u001b[1;32m     65\u001b[0m             \u001b[38;5;28;01mreturn\u001b[39;00m \u001b[38;5;28mNotImplemented\u001b[39m\n\u001b[1;32m     67\u001b[0m other \u001b[38;5;241m=\u001b[39m item_from_zerodim(other)\n\u001b[0;32m---> 69\u001b[0m \u001b[38;5;28;01mreturn\u001b[39;00m \u001b[43mmethod\u001b[49m\u001b[43m(\u001b[49m\u001b[38;5;28;43mself\u001b[39;49m\u001b[43m,\u001b[49m\u001b[43m \u001b[49m\u001b[43mother\u001b[49m\u001b[43m)\u001b[49m\n",
      "File \u001b[0;32m~/anaconda3/lib/python3.9/site-packages/pandas/core/arraylike.py:32\u001b[0m, in \u001b[0;36mOpsMixin.__eq__\u001b[0;34m(self, other)\u001b[0m\n\u001b[1;32m     30\u001b[0m \u001b[38;5;129m@unpack_zerodim_and_defer\u001b[39m(\u001b[38;5;124m\"\u001b[39m\u001b[38;5;124m__eq__\u001b[39m\u001b[38;5;124m\"\u001b[39m)\n\u001b[1;32m     31\u001b[0m \u001b[38;5;28;01mdef\u001b[39;00m \u001b[38;5;21m__eq__\u001b[39m(\u001b[38;5;28mself\u001b[39m, other):\n\u001b[0;32m---> 32\u001b[0m     \u001b[38;5;28;01mreturn\u001b[39;00m \u001b[38;5;28;43mself\u001b[39;49m\u001b[38;5;241;43m.\u001b[39;49m\u001b[43m_cmp_method\u001b[49m\u001b[43m(\u001b[49m\u001b[43mother\u001b[49m\u001b[43m,\u001b[49m\u001b[43m \u001b[49m\u001b[43moperator\u001b[49m\u001b[38;5;241;43m.\u001b[39;49m\u001b[43meq\u001b[49m\u001b[43m)\u001b[49m\n",
      "File \u001b[0;32m~/anaconda3/lib/python3.9/site-packages/pandas/core/series.py:5502\u001b[0m, in \u001b[0;36mSeries._cmp_method\u001b[0;34m(self, other, op)\u001b[0m\n\u001b[1;32m   5499\u001b[0m rvalues \u001b[38;5;241m=\u001b[39m extract_array(other, extract_numpy\u001b[38;5;241m=\u001b[39m\u001b[38;5;28;01mTrue\u001b[39;00m, extract_range\u001b[38;5;241m=\u001b[39m\u001b[38;5;28;01mTrue\u001b[39;00m)\n\u001b[1;32m   5501\u001b[0m \u001b[38;5;28;01mwith\u001b[39;00m np\u001b[38;5;241m.\u001b[39merrstate(\u001b[38;5;28mall\u001b[39m\u001b[38;5;241m=\u001b[39m\u001b[38;5;124m\"\u001b[39m\u001b[38;5;124mignore\u001b[39m\u001b[38;5;124m\"\u001b[39m):\n\u001b[0;32m-> 5502\u001b[0m     res_values \u001b[38;5;241m=\u001b[39m \u001b[43mops\u001b[49m\u001b[38;5;241;43m.\u001b[39;49m\u001b[43mcomparison_op\u001b[49m\u001b[43m(\u001b[49m\u001b[43mlvalues\u001b[49m\u001b[43m,\u001b[49m\u001b[43m \u001b[49m\u001b[43mrvalues\u001b[49m\u001b[43m,\u001b[49m\u001b[43m \u001b[49m\u001b[43mop\u001b[49m\u001b[43m)\u001b[49m\n\u001b[1;32m   5504\u001b[0m \u001b[38;5;28;01mreturn\u001b[39;00m \u001b[38;5;28mself\u001b[39m\u001b[38;5;241m.\u001b[39m_construct_result(res_values, name\u001b[38;5;241m=\u001b[39mres_name)\n",
      "File \u001b[0;32m~/anaconda3/lib/python3.9/site-packages/pandas/core/ops/array_ops.py:261\u001b[0m, in \u001b[0;36mcomparison_op\u001b[0;34m(left, right, op)\u001b[0m\n\u001b[1;32m    256\u001b[0m \u001b[38;5;28;01mif\u001b[39;00m \u001b[38;5;28misinstance\u001b[39m(rvalues, (np\u001b[38;5;241m.\u001b[39mndarray, ABCExtensionArray)):\n\u001b[1;32m    257\u001b[0m     \u001b[38;5;66;03m# TODO: make this treatment consistent across ops and classes.\u001b[39;00m\n\u001b[1;32m    258\u001b[0m     \u001b[38;5;66;03m#  We are not catching all listlikes here (e.g. frozenset, tuple)\u001b[39;00m\n\u001b[1;32m    259\u001b[0m     \u001b[38;5;66;03m#  The ambiguous case is object-dtype.  See GH#27803\u001b[39;00m\n\u001b[1;32m    260\u001b[0m     \u001b[38;5;28;01mif\u001b[39;00m \u001b[38;5;28mlen\u001b[39m(lvalues) \u001b[38;5;241m!=\u001b[39m \u001b[38;5;28mlen\u001b[39m(rvalues):\n\u001b[0;32m--> 261\u001b[0m         \u001b[38;5;28;01mraise\u001b[39;00m \u001b[38;5;167;01mValueError\u001b[39;00m(\n\u001b[1;32m    262\u001b[0m             \u001b[38;5;124m\"\u001b[39m\u001b[38;5;124mLengths must match to compare\u001b[39m\u001b[38;5;124m\"\u001b[39m, lvalues\u001b[38;5;241m.\u001b[39mshape, rvalues\u001b[38;5;241m.\u001b[39mshape\n\u001b[1;32m    263\u001b[0m         )\n\u001b[1;32m    265\u001b[0m \u001b[38;5;28;01mif\u001b[39;00m should_extension_dispatch(lvalues, rvalues) \u001b[38;5;129;01mor\u001b[39;00m (\n\u001b[1;32m    266\u001b[0m     (\u001b[38;5;28misinstance\u001b[39m(rvalues, (Timedelta, BaseOffset, Timestamp)) \u001b[38;5;129;01mor\u001b[39;00m right \u001b[38;5;129;01mis\u001b[39;00m NaT)\n\u001b[1;32m    267\u001b[0m     \u001b[38;5;129;01mand\u001b[39;00m \u001b[38;5;129;01mnot\u001b[39;00m is_object_dtype(lvalues\u001b[38;5;241m.\u001b[39mdtype)\n\u001b[1;32m    268\u001b[0m ):\n\u001b[1;32m    269\u001b[0m     \u001b[38;5;66;03m# Call the method on lvalues\u001b[39;00m\n\u001b[1;32m    270\u001b[0m     res_values \u001b[38;5;241m=\u001b[39m op(lvalues, rvalues)\n",
      "\u001b[0;31mValueError\u001b[0m: ('Lengths must match to compare', (8665,), (305,))"
     ]
    }
   ],
   "source": [
    "\n",
    "#     save_df_to_path(extra_cats_imgs, \n",
    "#                 processed_data_output_dir, \n",
    "#                 'cat_individual_database_extra_images.csv')"
   ]
  },
  {
   "cell_type": "code",
   "execution_count": 62,
   "id": "8abf3d01",
   "metadata": {},
   "outputs": [
    {
     "data": {
      "text/plain": [
       "array(['0470', '0242', '0504', '0079', '0390', '0435', '0397', '0386',\n",
       "       '0430', '0077', '0329', '0439', '0199', '0047', '0503', '0263',\n",
       "       '0168', '0436', '0158', '0151', '0371', '0387', '0106', '0247',\n",
       "       '0512', '0369', '0188', '0037', '0461', '0013', '0278', '0088',\n",
       "       '0348', '0121', '0468', '0080', '0179', '0375', '0357', '0034',\n",
       "       '0135', '0012', '0281', '0126', '0299', '0205', '0462', '0353',\n",
       "       '0505', '0253', '0319', '0230', '0191', '0500', '0295', '0447',\n",
       "       '0310', '0337', '0159', '0410', '0359', '0266', '0313', '0045',\n",
       "       '0145', '0246', '0433', '0300', '0225', '0465', '0469', '0228',\n",
       "       '0306', '0017', '0016', '0283', '0131', '0177', '0404', '0466',\n",
       "       '0069', '0289', '0506', '0140', '0054', '0202', '0284', '0297',\n",
       "       '0125', '0272', '0201', '0085', '0377', '0474', '0237', '0502',\n",
       "       '0039', '0214', '0415', '0514', '0231', '0363', '0448', '0019',\n",
       "       '0362', '0006', '0248', '0097', '0442', '0438', '0026', '0207',\n",
       "       '0365', '0379', '0401', '0061', '0169', '0496', '0044', '0408',\n",
       "       '0378', '0333', '0027', '0458', '0261', '0090', '0420', '0111',\n",
       "       '0453', '0073', '0515', '0256', '0067', '0336', '0486', '0391',\n",
       "       '0031', '0250', '0494', '0312', '0457', '0162', '0072', '0492',\n",
       "       '0181', '0413', '0395', '0317', '0010', '0244', '0417', '0163',\n",
       "       '0185', '0280', '0093', '0475', '0287', '0298', '0393', '0443',\n",
       "       '0216', '0314', '0268', '0349', '0373', '0008', '0108', '0128',\n",
       "       '0089', '0385', '0352', '0200', '0186', '0497', '0133', '0071',\n",
       "       '0428', '0255', '0276', '0208', '0226', '0150', '0117', '0392',\n",
       "       '0427', '0467', '0424', '0490', '0279', '0065', '0187', '0360',\n",
       "       '0411', '0249', '0335', '0304', '0104', '0058', '0068', '0491',\n",
       "       '0328', '0334', '0463', '0355', '0215', '0380', '0028', '0229',\n",
       "       '0511', '0148', '0103', '0320', '0042', '0156', '0327', '0426',\n",
       "       '0083', '0340', '0062', '0260', '0484', '0203', '0446', '0029',\n",
       "       '0259', '0129', '0455', '0372', '0137', '0014', '0134', '0354',\n",
       "       '0238', '0081', '0339', '0007', '0109', '0122', '0194', '0015',\n",
       "       '0195', '0343', '0338', '0264', '0240', '0416', '0274', '0414',\n",
       "       '0495', '0292', '0282', '0407', '0176', '0370', '0165', '0309',\n",
       "       '0316', '0227', '0326', '0232', '0107', '0144', '0023', '0311',\n",
       "       '0456', '0224', '0296', '0036', '0110', '0485', '0064', '0198',\n",
       "       '0130', '0011', '0402', '0123', '0030', '0204', '0510', '0361',\n",
       "       '0487', '0277', '0273', '0053', '0146', '0211', '0303', '0480',\n",
       "       '0046', '0161', '0075', '0305', '0290', '0257', '0508', '0142',\n",
       "       '0308', '0252', '0350', '0038', '0472', '0482', '0233', '0052',\n",
       "       '0489'], dtype=object)"
      ]
     },
     "execution_count": 62,
     "metadata": {},
     "output_type": "execute_result"
    }
   ],
   "source": [
    "sample_id.values"
   ]
  },
  {
   "cell_type": "markdown",
   "id": "62315ddf",
   "metadata": {},
   "source": [
    "### heik/png to jpg"
   ]
  },
  {
   "cell_type": "code",
   "execution_count": null,
   "id": "27eb85fb",
   "metadata": {},
   "outputs": [],
   "source": [
    "from wand.image import Image\n",
    "\n",
    "def to_jpg(path):\n",
    "    "
   ]
  },
  {
   "cell_type": "code",
   "execution_count": 29,
   "id": "50ef059f",
   "metadata": {},
   "outputs": [
    {
     "name": "stdout",
     "output_type": "stream",
     "text": [
      "Requirement already satisfied: whatimage in /home/art/anaconda3/lib/python3.9/site-packages (0.0.3)\n",
      "Note: you may need to restart the kernel to use updated packages.\n"
     ]
    }
   ],
   "source": [
    "pip install whatimage"
   ]
  },
  {
   "cell_type": "code",
   "execution_count": 30,
   "id": "b20f3a69",
   "metadata": {},
   "outputs": [
    {
     "name": "stdout",
     "output_type": "stream",
     "text": [
      "Requirement already satisfied: Wand in /home/art/anaconda3/lib/python3.9/site-packages (0.6.10)\n",
      "Note: you may need to restart the kernel to use updated packages.\n"
     ]
    }
   ],
   "source": [
    "\n",
    "pip install Wand"
   ]
  },
  {
   "cell_type": "code",
   "execution_count": 31,
   "id": "20bdd9bc",
   "metadata": {},
   "outputs": [],
   "source": [
    "import io\n",
    "\n",
    "import whatimage\n",
    "import pyheif\n",
    "from PIL import Image\n",
    "\n",
    "\n",
    "def decodeImage(bytesIo):\n",
    "\n",
    "    fmt = whatimage.identify_image(bytesIo)\n",
    "    print(fmt)\n",
    "    if fmt in ['heic', 'avif']:\n",
    "         i = pyheif.read_heif(bytesIo)\n",
    "\n",
    "         # Extract metadata etc\n",
    "         for metadata in i.metadata or []:\n",
    "            if metadata['type']=='Exif':\n",
    "                 # do whatever\n",
    "                    print(2)\n",
    "                    pass\n",
    "\n",
    "         # Convert to other file format like jpeg\n",
    "            s = io.BytesIO()\n",
    "            pi = Image.frombytes(\n",
    "            mode=i.mode, size=i.size, data=i.data)\n",
    "\n",
    "            pi.save(s, format=\"jpeg\")\n",
    "            print(1)\n",
    "            return pi\n",
    "            \n",
    "            \n"
   ]
  },
  {
   "cell_type": "code",
   "execution_count": null,
   "id": "179dd323",
   "metadata": {},
   "outputs": [],
   "source": [
    "def to_jpg(path):\n",
    "    "
   ]
  },
  {
   "cell_type": "code",
   "execution_count": null,
   "id": "3ffbbff5",
   "metadata": {},
   "outputs": [],
   "source": [
    "i = pyheif.read_heif(img_path)\n",
    "s = io.BytesIO()\n",
    "pi = Image.frombytes(\n",
    "mode=i.mode, size=i.size, data=i.data)\n",
    "\n",
    "pi.save(s, format=\"jpeg\")"
   ]
  },
  {
   "cell_type": "code",
   "execution_count": null,
   "id": "22f98a4b",
   "metadata": {},
   "outputs": [],
   "source": [
    "pi"
   ]
  },
  {
   "cell_type": "code",
   "execution_count": null,
   "id": "d73ce755",
   "metadata": {},
   "outputs": [],
   "source": [
    "with Image.open(img_path) as im:\n",
    "    im.show()\n",
    "    "
   ]
  },
  {
   "cell_type": "code",
   "execution_count": null,
   "id": "c13c7e46",
   "metadata": {},
   "outputs": [],
   "source": [
    "from wand.image import Image\n",
    "\n",
    "SourceFile = img_path\n",
    "TargetFolder=project_dir + 'data/processed/jpg_cats_dataset/'\n",
    "img=Image(filename=SourceFile)\n",
    "img.format='jpg'\n",
    "img.save(filename=TargetFile)\n",
    "img.close()"
   ]
  },
  {
   "cell_type": "code",
   "execution_count": null,
   "id": "437faf09",
   "metadata": {},
   "outputs": [],
   "source": [
    "from wand.image import Image\n",
    "\n",
    "\n",
    "SourceFolder=\"K:/HeicFolder\"\n",
    "TargetFolder=project_dir + 'data/processed/jpg_cats_dataset/'\n",
    "\n",
    "for file in os.listdir(SourceFolder):\n",
    "        SourceFile=SourceFolder + \"/\" + file\n",
    "        TargetFile=TargetFolder + \"/\" + file.replace(\".HEIC\",\".JPG\")\n",
    "        img=Image(filename=SourceFile)\n",
    "        img.format='jpg'\n",
    "        img.save(filename=TargetFile)\n",
    "        img.close()"
   ]
  },
  {
   "cell_type": "code",
   "execution_count": null,
   "id": "dd013891",
   "metadata": {},
   "outputs": [],
   "source": [
    "processed_cats_imgs = img_path\n"
   ]
  },
  {
   "cell_type": "code",
   "execution_count": null,
   "id": "0761438d",
   "metadata": {},
   "outputs": [],
   "source": []
  },
  {
   "cell_type": "code",
   "execution_count": null,
   "id": "127f1545",
   "metadata": {},
   "outputs": [],
   "source": [
    "from dotenv import find_dotenv, load_dotenv\n",
    "\n",
    "load_dotenv()\n",
    "input_filepath = os.environ['CAT_INDIVIDUALS_DS_PATH']\n",
    "TargetFolder=project_dir + 'data/processed/jpg_cats_dataset/'"
   ]
  },
  {
   "cell_type": "code",
   "execution_count": null,
   "id": "d7c59048",
   "metadata": {},
   "outputs": [],
   "source": [
    "input_filepath"
   ]
  },
  {
   "cell_type": "code",
   "execution_count": null,
   "id": "f951e932",
   "metadata": {},
   "outputs": [],
   "source": []
  }
 ],
 "metadata": {
  "kernelspec": {
   "display_name": "Python 3 (ipykernel)",
   "language": "python",
   "name": "python3"
  },
  "language_info": {
   "codemirror_mode": {
    "name": "ipython",
    "version": 3
   },
   "file_extension": ".py",
   "mimetype": "text/x-python",
   "name": "python",
   "nbconvert_exporter": "python",
   "pygments_lexer": "ipython3",
   "version": "3.9.7"
  }
 },
 "nbformat": 4,
 "nbformat_minor": 5
}
